{
 "cells": [
  {
   "cell_type": "markdown",
   "id": "assumed-wages",
   "metadata": {
    "papermill": {
     "duration": 0.040933,
     "end_time": "2021-04-04T07:41:20.209501",
     "exception": false,
     "start_time": "2021-04-04T07:41:20.168568",
     "status": "completed"
    },
    "tags": []
   },
   "source": [
    "## Import libraries"
   ]
  },
  {
   "cell_type": "code",
   "execution_count": 1,
   "id": "convenient-commitment",
   "metadata": {
    "execution": {
     "iopub.execute_input": "2021-04-04T07:41:20.294331Z",
     "iopub.status.busy": "2021-04-04T07:41:20.293492Z",
     "iopub.status.idle": "2021-04-04T07:41:22.109056Z",
     "shell.execute_reply": "2021-04-04T07:41:22.108251Z"
    },
    "papermill": {
     "duration": 1.860496,
     "end_time": "2021-04-04T07:41:22.109269",
     "exception": false,
     "start_time": "2021-04-04T07:41:20.248773",
     "status": "completed"
    },
    "tags": []
   },
   "outputs": [],
   "source": [
    "import pandas as pd\n",
    "import numpy as np\n",
    "import seaborn as sns\n",
    "import matplotlib.pyplot as plt\n",
    "from scipy import stats\n",
    "from sklearn import preprocessing\n",
    "from sklearn.model_selection import train_test_split\n",
    "from sklearn.linear_model import LogisticRegression\n",
    "from xgboost import XGBClassifier\n",
    "from sklearn.svm import SVC\n",
    "from sklearn.ensemble import RandomForestClassifier\n",
    "from sklearn.model_selection import GridSearchCV\n",
    "from sklearn.metrics import precision_recall_curve\n",
    "from sklearn.metrics import confusion_matrix\n",
    "from sklearn.metrics import accuracy_score\n",
    "from sklearn.metrics import classification_report\n",
    "from sklearn.metrics import f1_score"
   ]
  },
  {
   "cell_type": "markdown",
   "id": "lovely-democracy",
   "metadata": {
    "papermill": {
     "duration": 0.037714,
     "end_time": "2021-04-04T07:41:22.185266",
     "exception": false,
     "start_time": "2021-04-04T07:41:22.147552",
     "status": "completed"
    },
    "tags": []
   },
   "source": [
    "# Summary\n",
    "**Task : prediting nextday-rain with high accuracy**\n",
    "\n",
    "**process: its pretty straight forward project,  <br>\n",
    " 1.we do some preprocessing so data be ready for some analysing.<br>\n",
    " 2.we analyse data to find some relation between features and target.<br>\n",
    " 3.furthur preprocessing to make date ready for training.<br>\n",
    " 4.we train the model and tune it for better accuracy<br>**"
   ]
  },
  {
   "cell_type": "markdown",
   "id": "intimate-token",
   "metadata": {
    "papermill": {
     "duration": 0.038313,
     "end_time": "2021-04-04T07:41:22.261483",
     "exception": false,
     "start_time": "2021-04-04T07:41:22.223170",
     "status": "completed"
    },
    "tags": []
   },
   "source": [
    "# 1.Loading dataset"
   ]
  },
  {
   "cell_type": "code",
   "execution_count": 2,
   "id": "independent-salon",
   "metadata": {
    "execution": {
     "iopub.execute_input": "2021-04-04T07:41:22.345371Z",
     "iopub.status.busy": "2021-04-04T07:41:22.344721Z",
     "iopub.status.idle": "2021-04-04T07:41:22.985288Z",
     "shell.execute_reply": "2021-04-04T07:41:22.985814Z"
    },
    "papermill": {
     "duration": 0.684024,
     "end_time": "2021-04-04T07:41:22.985999",
     "exception": false,
     "start_time": "2021-04-04T07:41:22.301975",
     "status": "completed"
    },
    "tags": []
   },
   "outputs": [],
   "source": [
    "df = pd.read_csv('../input/weather-dataset-rattle-package/weatherAUS.csv')"
   ]
  },
  {
   "cell_type": "code",
   "execution_count": 3,
   "id": "threatened-borough",
   "metadata": {
    "execution": {
     "iopub.execute_input": "2021-04-04T07:41:23.066615Z",
     "iopub.status.busy": "2021-04-04T07:41:23.065955Z",
     "iopub.status.idle": "2021-04-04T07:41:23.206865Z",
     "shell.execute_reply": "2021-04-04T07:41:23.207399Z"
    },
    "papermill": {
     "duration": 0.182967,
     "end_time": "2021-04-04T07:41:23.207578",
     "exception": false,
     "start_time": "2021-04-04T07:41:23.024611",
     "status": "completed"
    },
    "tags": []
   },
   "outputs": [
    {
     "data": {
      "text/html": [
       "<div>\n",
       "<style scoped>\n",
       "    .dataframe tbody tr th:only-of-type {\n",
       "        vertical-align: middle;\n",
       "    }\n",
       "\n",
       "    .dataframe tbody tr th {\n",
       "        vertical-align: top;\n",
       "    }\n",
       "\n",
       "    .dataframe thead th {\n",
       "        text-align: right;\n",
       "    }\n",
       "</style>\n",
       "<table border=\"1\" class=\"dataframe\">\n",
       "  <thead>\n",
       "    <tr style=\"text-align: right;\">\n",
       "      <th></th>\n",
       "      <th>Date</th>\n",
       "      <th>Location</th>\n",
       "      <th>MinTemp</th>\n",
       "      <th>MaxTemp</th>\n",
       "      <th>Rainfall</th>\n",
       "      <th>Evaporation</th>\n",
       "      <th>Sunshine</th>\n",
       "      <th>WindGustDir</th>\n",
       "      <th>WindGustSpeed</th>\n",
       "      <th>WindDir9am</th>\n",
       "      <th>...</th>\n",
       "      <th>Humidity9am</th>\n",
       "      <th>Humidity3pm</th>\n",
       "      <th>Pressure9am</th>\n",
       "      <th>Pressure3pm</th>\n",
       "      <th>Cloud9am</th>\n",
       "      <th>Cloud3pm</th>\n",
       "      <th>Temp9am</th>\n",
       "      <th>Temp3pm</th>\n",
       "      <th>RainToday</th>\n",
       "      <th>RainTomorrow</th>\n",
       "    </tr>\n",
       "  </thead>\n",
       "  <tbody>\n",
       "    <tr>\n",
       "      <th>0</th>\n",
       "      <td>2008-12-01</td>\n",
       "      <td>Albury</td>\n",
       "      <td>13.4</td>\n",
       "      <td>22.9</td>\n",
       "      <td>0.6</td>\n",
       "      <td>NaN</td>\n",
       "      <td>NaN</td>\n",
       "      <td>W</td>\n",
       "      <td>44.0</td>\n",
       "      <td>W</td>\n",
       "      <td>...</td>\n",
       "      <td>71.0</td>\n",
       "      <td>22.0</td>\n",
       "      <td>1007.7</td>\n",
       "      <td>1007.1</td>\n",
       "      <td>8.0</td>\n",
       "      <td>NaN</td>\n",
       "      <td>16.9</td>\n",
       "      <td>21.8</td>\n",
       "      <td>No</td>\n",
       "      <td>No</td>\n",
       "    </tr>\n",
       "    <tr>\n",
       "      <th>1</th>\n",
       "      <td>2008-12-02</td>\n",
       "      <td>Albury</td>\n",
       "      <td>7.4</td>\n",
       "      <td>25.1</td>\n",
       "      <td>0.0</td>\n",
       "      <td>NaN</td>\n",
       "      <td>NaN</td>\n",
       "      <td>WNW</td>\n",
       "      <td>44.0</td>\n",
       "      <td>NNW</td>\n",
       "      <td>...</td>\n",
       "      <td>44.0</td>\n",
       "      <td>25.0</td>\n",
       "      <td>1010.6</td>\n",
       "      <td>1007.8</td>\n",
       "      <td>NaN</td>\n",
       "      <td>NaN</td>\n",
       "      <td>17.2</td>\n",
       "      <td>24.3</td>\n",
       "      <td>No</td>\n",
       "      <td>No</td>\n",
       "    </tr>\n",
       "    <tr>\n",
       "      <th>2</th>\n",
       "      <td>2008-12-03</td>\n",
       "      <td>Albury</td>\n",
       "      <td>12.9</td>\n",
       "      <td>25.7</td>\n",
       "      <td>0.0</td>\n",
       "      <td>NaN</td>\n",
       "      <td>NaN</td>\n",
       "      <td>WSW</td>\n",
       "      <td>46.0</td>\n",
       "      <td>W</td>\n",
       "      <td>...</td>\n",
       "      <td>38.0</td>\n",
       "      <td>30.0</td>\n",
       "      <td>1007.6</td>\n",
       "      <td>1008.7</td>\n",
       "      <td>NaN</td>\n",
       "      <td>2.0</td>\n",
       "      <td>21.0</td>\n",
       "      <td>23.2</td>\n",
       "      <td>No</td>\n",
       "      <td>No</td>\n",
       "    </tr>\n",
       "    <tr>\n",
       "      <th>3</th>\n",
       "      <td>2008-12-04</td>\n",
       "      <td>Albury</td>\n",
       "      <td>9.2</td>\n",
       "      <td>28.0</td>\n",
       "      <td>0.0</td>\n",
       "      <td>NaN</td>\n",
       "      <td>NaN</td>\n",
       "      <td>NE</td>\n",
       "      <td>24.0</td>\n",
       "      <td>SE</td>\n",
       "      <td>...</td>\n",
       "      <td>45.0</td>\n",
       "      <td>16.0</td>\n",
       "      <td>1017.6</td>\n",
       "      <td>1012.8</td>\n",
       "      <td>NaN</td>\n",
       "      <td>NaN</td>\n",
       "      <td>18.1</td>\n",
       "      <td>26.5</td>\n",
       "      <td>No</td>\n",
       "      <td>No</td>\n",
       "    </tr>\n",
       "    <tr>\n",
       "      <th>4</th>\n",
       "      <td>2008-12-05</td>\n",
       "      <td>Albury</td>\n",
       "      <td>17.5</td>\n",
       "      <td>32.3</td>\n",
       "      <td>1.0</td>\n",
       "      <td>NaN</td>\n",
       "      <td>NaN</td>\n",
       "      <td>W</td>\n",
       "      <td>41.0</td>\n",
       "      <td>ENE</td>\n",
       "      <td>...</td>\n",
       "      <td>82.0</td>\n",
       "      <td>33.0</td>\n",
       "      <td>1010.8</td>\n",
       "      <td>1006.0</td>\n",
       "      <td>7.0</td>\n",
       "      <td>8.0</td>\n",
       "      <td>17.8</td>\n",
       "      <td>29.7</td>\n",
       "      <td>No</td>\n",
       "      <td>No</td>\n",
       "    </tr>\n",
       "    <tr>\n",
       "      <th>...</th>\n",
       "      <td>...</td>\n",
       "      <td>...</td>\n",
       "      <td>...</td>\n",
       "      <td>...</td>\n",
       "      <td>...</td>\n",
       "      <td>...</td>\n",
       "      <td>...</td>\n",
       "      <td>...</td>\n",
       "      <td>...</td>\n",
       "      <td>...</td>\n",
       "      <td>...</td>\n",
       "      <td>...</td>\n",
       "      <td>...</td>\n",
       "      <td>...</td>\n",
       "      <td>...</td>\n",
       "      <td>...</td>\n",
       "      <td>...</td>\n",
       "      <td>...</td>\n",
       "      <td>...</td>\n",
       "      <td>...</td>\n",
       "      <td>...</td>\n",
       "    </tr>\n",
       "    <tr>\n",
       "      <th>145455</th>\n",
       "      <td>2017-06-21</td>\n",
       "      <td>Uluru</td>\n",
       "      <td>2.8</td>\n",
       "      <td>23.4</td>\n",
       "      <td>0.0</td>\n",
       "      <td>NaN</td>\n",
       "      <td>NaN</td>\n",
       "      <td>E</td>\n",
       "      <td>31.0</td>\n",
       "      <td>SE</td>\n",
       "      <td>...</td>\n",
       "      <td>51.0</td>\n",
       "      <td>24.0</td>\n",
       "      <td>1024.6</td>\n",
       "      <td>1020.3</td>\n",
       "      <td>NaN</td>\n",
       "      <td>NaN</td>\n",
       "      <td>10.1</td>\n",
       "      <td>22.4</td>\n",
       "      <td>No</td>\n",
       "      <td>No</td>\n",
       "    </tr>\n",
       "    <tr>\n",
       "      <th>145456</th>\n",
       "      <td>2017-06-22</td>\n",
       "      <td>Uluru</td>\n",
       "      <td>3.6</td>\n",
       "      <td>25.3</td>\n",
       "      <td>0.0</td>\n",
       "      <td>NaN</td>\n",
       "      <td>NaN</td>\n",
       "      <td>NNW</td>\n",
       "      <td>22.0</td>\n",
       "      <td>SE</td>\n",
       "      <td>...</td>\n",
       "      <td>56.0</td>\n",
       "      <td>21.0</td>\n",
       "      <td>1023.5</td>\n",
       "      <td>1019.1</td>\n",
       "      <td>NaN</td>\n",
       "      <td>NaN</td>\n",
       "      <td>10.9</td>\n",
       "      <td>24.5</td>\n",
       "      <td>No</td>\n",
       "      <td>No</td>\n",
       "    </tr>\n",
       "    <tr>\n",
       "      <th>145457</th>\n",
       "      <td>2017-06-23</td>\n",
       "      <td>Uluru</td>\n",
       "      <td>5.4</td>\n",
       "      <td>26.9</td>\n",
       "      <td>0.0</td>\n",
       "      <td>NaN</td>\n",
       "      <td>NaN</td>\n",
       "      <td>N</td>\n",
       "      <td>37.0</td>\n",
       "      <td>SE</td>\n",
       "      <td>...</td>\n",
       "      <td>53.0</td>\n",
       "      <td>24.0</td>\n",
       "      <td>1021.0</td>\n",
       "      <td>1016.8</td>\n",
       "      <td>NaN</td>\n",
       "      <td>NaN</td>\n",
       "      <td>12.5</td>\n",
       "      <td>26.1</td>\n",
       "      <td>No</td>\n",
       "      <td>No</td>\n",
       "    </tr>\n",
       "    <tr>\n",
       "      <th>145458</th>\n",
       "      <td>2017-06-24</td>\n",
       "      <td>Uluru</td>\n",
       "      <td>7.8</td>\n",
       "      <td>27.0</td>\n",
       "      <td>0.0</td>\n",
       "      <td>NaN</td>\n",
       "      <td>NaN</td>\n",
       "      <td>SE</td>\n",
       "      <td>28.0</td>\n",
       "      <td>SSE</td>\n",
       "      <td>...</td>\n",
       "      <td>51.0</td>\n",
       "      <td>24.0</td>\n",
       "      <td>1019.4</td>\n",
       "      <td>1016.5</td>\n",
       "      <td>3.0</td>\n",
       "      <td>2.0</td>\n",
       "      <td>15.1</td>\n",
       "      <td>26.0</td>\n",
       "      <td>No</td>\n",
       "      <td>No</td>\n",
       "    </tr>\n",
       "    <tr>\n",
       "      <th>145459</th>\n",
       "      <td>2017-06-25</td>\n",
       "      <td>Uluru</td>\n",
       "      <td>14.9</td>\n",
       "      <td>NaN</td>\n",
       "      <td>0.0</td>\n",
       "      <td>NaN</td>\n",
       "      <td>NaN</td>\n",
       "      <td>NaN</td>\n",
       "      <td>NaN</td>\n",
       "      <td>ESE</td>\n",
       "      <td>...</td>\n",
       "      <td>62.0</td>\n",
       "      <td>36.0</td>\n",
       "      <td>1020.2</td>\n",
       "      <td>1017.9</td>\n",
       "      <td>8.0</td>\n",
       "      <td>8.0</td>\n",
       "      <td>15.0</td>\n",
       "      <td>20.9</td>\n",
       "      <td>No</td>\n",
       "      <td>NaN</td>\n",
       "    </tr>\n",
       "  </tbody>\n",
       "</table>\n",
       "<p>145460 rows × 23 columns</p>\n",
       "</div>"
      ],
      "text/plain": [
       "              Date Location  MinTemp  MaxTemp  Rainfall  Evaporation  \\\n",
       "0       2008-12-01   Albury     13.4     22.9       0.6          NaN   \n",
       "1       2008-12-02   Albury      7.4     25.1       0.0          NaN   \n",
       "2       2008-12-03   Albury     12.9     25.7       0.0          NaN   \n",
       "3       2008-12-04   Albury      9.2     28.0       0.0          NaN   \n",
       "4       2008-12-05   Albury     17.5     32.3       1.0          NaN   \n",
       "...            ...      ...      ...      ...       ...          ...   \n",
       "145455  2017-06-21    Uluru      2.8     23.4       0.0          NaN   \n",
       "145456  2017-06-22    Uluru      3.6     25.3       0.0          NaN   \n",
       "145457  2017-06-23    Uluru      5.4     26.9       0.0          NaN   \n",
       "145458  2017-06-24    Uluru      7.8     27.0       0.0          NaN   \n",
       "145459  2017-06-25    Uluru     14.9      NaN       0.0          NaN   \n",
       "\n",
       "        Sunshine WindGustDir  WindGustSpeed WindDir9am  ... Humidity9am  \\\n",
       "0            NaN           W           44.0          W  ...        71.0   \n",
       "1            NaN         WNW           44.0        NNW  ...        44.0   \n",
       "2            NaN         WSW           46.0          W  ...        38.0   \n",
       "3            NaN          NE           24.0         SE  ...        45.0   \n",
       "4            NaN           W           41.0        ENE  ...        82.0   \n",
       "...          ...         ...            ...        ...  ...         ...   \n",
       "145455       NaN           E           31.0         SE  ...        51.0   \n",
       "145456       NaN         NNW           22.0         SE  ...        56.0   \n",
       "145457       NaN           N           37.0         SE  ...        53.0   \n",
       "145458       NaN          SE           28.0        SSE  ...        51.0   \n",
       "145459       NaN         NaN            NaN        ESE  ...        62.0   \n",
       "\n",
       "        Humidity3pm  Pressure9am  Pressure3pm  Cloud9am  Cloud3pm  Temp9am  \\\n",
       "0              22.0       1007.7       1007.1       8.0       NaN     16.9   \n",
       "1              25.0       1010.6       1007.8       NaN       NaN     17.2   \n",
       "2              30.0       1007.6       1008.7       NaN       2.0     21.0   \n",
       "3              16.0       1017.6       1012.8       NaN       NaN     18.1   \n",
       "4              33.0       1010.8       1006.0       7.0       8.0     17.8   \n",
       "...             ...          ...          ...       ...       ...      ...   \n",
       "145455         24.0       1024.6       1020.3       NaN       NaN     10.1   \n",
       "145456         21.0       1023.5       1019.1       NaN       NaN     10.9   \n",
       "145457         24.0       1021.0       1016.8       NaN       NaN     12.5   \n",
       "145458         24.0       1019.4       1016.5       3.0       2.0     15.1   \n",
       "145459         36.0       1020.2       1017.9       8.0       8.0     15.0   \n",
       "\n",
       "        Temp3pm  RainToday  RainTomorrow  \n",
       "0          21.8         No            No  \n",
       "1          24.3         No            No  \n",
       "2          23.2         No            No  \n",
       "3          26.5         No            No  \n",
       "4          29.7         No            No  \n",
       "...         ...        ...           ...  \n",
       "145455     22.4         No            No  \n",
       "145456     24.5         No            No  \n",
       "145457     26.1         No            No  \n",
       "145458     26.0         No            No  \n",
       "145459     20.9         No           NaN  \n",
       "\n",
       "[145460 rows x 23 columns]"
      ]
     },
     "execution_count": 3,
     "metadata": {},
     "output_type": "execute_result"
    }
   ],
   "source": [
    "df"
   ]
  },
  {
   "cell_type": "code",
   "execution_count": 4,
   "id": "enormous-hygiene",
   "metadata": {
    "execution": {
     "iopub.execute_input": "2021-04-04T07:41:23.297171Z",
     "iopub.status.busy": "2021-04-04T07:41:23.296432Z",
     "iopub.status.idle": "2021-04-04T07:41:23.444342Z",
     "shell.execute_reply": "2021-04-04T07:41:23.445101Z"
    },
    "papermill": {
     "duration": 0.197844,
     "end_time": "2021-04-04T07:41:23.445392",
     "exception": false,
     "start_time": "2021-04-04T07:41:23.247548",
     "status": "completed"
    },
    "tags": []
   },
   "outputs": [
    {
     "name": "stdout",
     "output_type": "stream",
     "text": [
      "<class 'pandas.core.frame.DataFrame'>\n",
      "RangeIndex: 145460 entries, 0 to 145459\n",
      "Data columns (total 23 columns):\n",
      " #   Column         Non-Null Count   Dtype  \n",
      "---  ------         --------------   -----  \n",
      " 0   Date           145460 non-null  object \n",
      " 1   Location       145460 non-null  object \n",
      " 2   MinTemp        143975 non-null  float64\n",
      " 3   MaxTemp        144199 non-null  float64\n",
      " 4   Rainfall       142199 non-null  float64\n",
      " 5   Evaporation    82670 non-null   float64\n",
      " 6   Sunshine       75625 non-null   float64\n",
      " 7   WindGustDir    135134 non-null  object \n",
      " 8   WindGustSpeed  135197 non-null  float64\n",
      " 9   WindDir9am     134894 non-null  object \n",
      " 10  WindDir3pm     141232 non-null  object \n",
      " 11  WindSpeed9am   143693 non-null  float64\n",
      " 12  WindSpeed3pm   142398 non-null  float64\n",
      " 13  Humidity9am    142806 non-null  float64\n",
      " 14  Humidity3pm    140953 non-null  float64\n",
      " 15  Pressure9am    130395 non-null  float64\n",
      " 16  Pressure3pm    130432 non-null  float64\n",
      " 17  Cloud9am       89572 non-null   float64\n",
      " 18  Cloud3pm       86102 non-null   float64\n",
      " 19  Temp9am        143693 non-null  float64\n",
      " 20  Temp3pm        141851 non-null  float64\n",
      " 21  RainToday      142199 non-null  object \n",
      " 22  RainTomorrow   142193 non-null  object \n",
      "dtypes: float64(16), object(7)\n",
      "memory usage: 25.5+ MB\n"
     ]
    }
   ],
   "source": [
    "df.info()"
   ]
  },
  {
   "cell_type": "code",
   "execution_count": 5,
   "id": "universal-joseph",
   "metadata": {
    "execution": {
     "iopub.execute_input": "2021-04-04T07:41:23.532648Z",
     "iopub.status.busy": "2021-04-04T07:41:23.531980Z",
     "iopub.status.idle": "2021-04-04T07:41:23.683393Z",
     "shell.execute_reply": "2021-04-04T07:41:23.682709Z"
    },
    "papermill": {
     "duration": 0.196202,
     "end_time": "2021-04-04T07:41:23.683546",
     "exception": false,
     "start_time": "2021-04-04T07:41:23.487344",
     "status": "completed"
    },
    "tags": []
   },
   "outputs": [
    {
     "data": {
      "text/html": [
       "<div>\n",
       "<style scoped>\n",
       "    .dataframe tbody tr th:only-of-type {\n",
       "        vertical-align: middle;\n",
       "    }\n",
       "\n",
       "    .dataframe tbody tr th {\n",
       "        vertical-align: top;\n",
       "    }\n",
       "\n",
       "    .dataframe thead th {\n",
       "        text-align: right;\n",
       "    }\n",
       "</style>\n",
       "<table border=\"1\" class=\"dataframe\">\n",
       "  <thead>\n",
       "    <tr style=\"text-align: right;\">\n",
       "      <th></th>\n",
       "      <th>MinTemp</th>\n",
       "      <th>MaxTemp</th>\n",
       "      <th>Rainfall</th>\n",
       "      <th>Evaporation</th>\n",
       "      <th>Sunshine</th>\n",
       "      <th>WindGustSpeed</th>\n",
       "      <th>WindSpeed9am</th>\n",
       "      <th>WindSpeed3pm</th>\n",
       "      <th>Humidity9am</th>\n",
       "      <th>Humidity3pm</th>\n",
       "      <th>Pressure9am</th>\n",
       "      <th>Pressure3pm</th>\n",
       "      <th>Cloud9am</th>\n",
       "      <th>Cloud3pm</th>\n",
       "      <th>Temp9am</th>\n",
       "      <th>Temp3pm</th>\n",
       "    </tr>\n",
       "  </thead>\n",
       "  <tbody>\n",
       "    <tr>\n",
       "      <th>count</th>\n",
       "      <td>143975.000000</td>\n",
       "      <td>144199.000000</td>\n",
       "      <td>142199.000000</td>\n",
       "      <td>82670.000000</td>\n",
       "      <td>75625.000000</td>\n",
       "      <td>135197.000000</td>\n",
       "      <td>143693.000000</td>\n",
       "      <td>142398.000000</td>\n",
       "      <td>142806.000000</td>\n",
       "      <td>140953.000000</td>\n",
       "      <td>130395.00000</td>\n",
       "      <td>130432.000000</td>\n",
       "      <td>89572.000000</td>\n",
       "      <td>86102.000000</td>\n",
       "      <td>143693.000000</td>\n",
       "      <td>141851.00000</td>\n",
       "    </tr>\n",
       "    <tr>\n",
       "      <th>mean</th>\n",
       "      <td>12.194034</td>\n",
       "      <td>23.221348</td>\n",
       "      <td>2.360918</td>\n",
       "      <td>5.468232</td>\n",
       "      <td>7.611178</td>\n",
       "      <td>40.035230</td>\n",
       "      <td>14.043426</td>\n",
       "      <td>18.662657</td>\n",
       "      <td>68.880831</td>\n",
       "      <td>51.539116</td>\n",
       "      <td>1017.64994</td>\n",
       "      <td>1015.255889</td>\n",
       "      <td>4.447461</td>\n",
       "      <td>4.509930</td>\n",
       "      <td>16.990631</td>\n",
       "      <td>21.68339</td>\n",
       "    </tr>\n",
       "    <tr>\n",
       "      <th>std</th>\n",
       "      <td>6.398495</td>\n",
       "      <td>7.119049</td>\n",
       "      <td>8.478060</td>\n",
       "      <td>4.193704</td>\n",
       "      <td>3.785483</td>\n",
       "      <td>13.607062</td>\n",
       "      <td>8.915375</td>\n",
       "      <td>8.809800</td>\n",
       "      <td>19.029164</td>\n",
       "      <td>20.795902</td>\n",
       "      <td>7.10653</td>\n",
       "      <td>7.037414</td>\n",
       "      <td>2.887159</td>\n",
       "      <td>2.720357</td>\n",
       "      <td>6.488753</td>\n",
       "      <td>6.93665</td>\n",
       "    </tr>\n",
       "    <tr>\n",
       "      <th>min</th>\n",
       "      <td>-8.500000</td>\n",
       "      <td>-4.800000</td>\n",
       "      <td>0.000000</td>\n",
       "      <td>0.000000</td>\n",
       "      <td>0.000000</td>\n",
       "      <td>6.000000</td>\n",
       "      <td>0.000000</td>\n",
       "      <td>0.000000</td>\n",
       "      <td>0.000000</td>\n",
       "      <td>0.000000</td>\n",
       "      <td>980.50000</td>\n",
       "      <td>977.100000</td>\n",
       "      <td>0.000000</td>\n",
       "      <td>0.000000</td>\n",
       "      <td>-7.200000</td>\n",
       "      <td>-5.40000</td>\n",
       "    </tr>\n",
       "    <tr>\n",
       "      <th>25%</th>\n",
       "      <td>7.600000</td>\n",
       "      <td>17.900000</td>\n",
       "      <td>0.000000</td>\n",
       "      <td>2.600000</td>\n",
       "      <td>4.800000</td>\n",
       "      <td>31.000000</td>\n",
       "      <td>7.000000</td>\n",
       "      <td>13.000000</td>\n",
       "      <td>57.000000</td>\n",
       "      <td>37.000000</td>\n",
       "      <td>1012.90000</td>\n",
       "      <td>1010.400000</td>\n",
       "      <td>1.000000</td>\n",
       "      <td>2.000000</td>\n",
       "      <td>12.300000</td>\n",
       "      <td>16.60000</td>\n",
       "    </tr>\n",
       "    <tr>\n",
       "      <th>50%</th>\n",
       "      <td>12.000000</td>\n",
       "      <td>22.600000</td>\n",
       "      <td>0.000000</td>\n",
       "      <td>4.800000</td>\n",
       "      <td>8.400000</td>\n",
       "      <td>39.000000</td>\n",
       "      <td>13.000000</td>\n",
       "      <td>19.000000</td>\n",
       "      <td>70.000000</td>\n",
       "      <td>52.000000</td>\n",
       "      <td>1017.60000</td>\n",
       "      <td>1015.200000</td>\n",
       "      <td>5.000000</td>\n",
       "      <td>5.000000</td>\n",
       "      <td>16.700000</td>\n",
       "      <td>21.10000</td>\n",
       "    </tr>\n",
       "    <tr>\n",
       "      <th>75%</th>\n",
       "      <td>16.900000</td>\n",
       "      <td>28.200000</td>\n",
       "      <td>0.800000</td>\n",
       "      <td>7.400000</td>\n",
       "      <td>10.600000</td>\n",
       "      <td>48.000000</td>\n",
       "      <td>19.000000</td>\n",
       "      <td>24.000000</td>\n",
       "      <td>83.000000</td>\n",
       "      <td>66.000000</td>\n",
       "      <td>1022.40000</td>\n",
       "      <td>1020.000000</td>\n",
       "      <td>7.000000</td>\n",
       "      <td>7.000000</td>\n",
       "      <td>21.600000</td>\n",
       "      <td>26.40000</td>\n",
       "    </tr>\n",
       "    <tr>\n",
       "      <th>max</th>\n",
       "      <td>33.900000</td>\n",
       "      <td>48.100000</td>\n",
       "      <td>371.000000</td>\n",
       "      <td>145.000000</td>\n",
       "      <td>14.500000</td>\n",
       "      <td>135.000000</td>\n",
       "      <td>130.000000</td>\n",
       "      <td>87.000000</td>\n",
       "      <td>100.000000</td>\n",
       "      <td>100.000000</td>\n",
       "      <td>1041.00000</td>\n",
       "      <td>1039.600000</td>\n",
       "      <td>9.000000</td>\n",
       "      <td>9.000000</td>\n",
       "      <td>40.200000</td>\n",
       "      <td>46.70000</td>\n",
       "    </tr>\n",
       "  </tbody>\n",
       "</table>\n",
       "</div>"
      ],
      "text/plain": [
       "             MinTemp        MaxTemp       Rainfall   Evaporation  \\\n",
       "count  143975.000000  144199.000000  142199.000000  82670.000000   \n",
       "mean       12.194034      23.221348       2.360918      5.468232   \n",
       "std         6.398495       7.119049       8.478060      4.193704   \n",
       "min        -8.500000      -4.800000       0.000000      0.000000   \n",
       "25%         7.600000      17.900000       0.000000      2.600000   \n",
       "50%        12.000000      22.600000       0.000000      4.800000   \n",
       "75%        16.900000      28.200000       0.800000      7.400000   \n",
       "max        33.900000      48.100000     371.000000    145.000000   \n",
       "\n",
       "           Sunshine  WindGustSpeed   WindSpeed9am   WindSpeed3pm  \\\n",
       "count  75625.000000  135197.000000  143693.000000  142398.000000   \n",
       "mean       7.611178      40.035230      14.043426      18.662657   \n",
       "std        3.785483      13.607062       8.915375       8.809800   \n",
       "min        0.000000       6.000000       0.000000       0.000000   \n",
       "25%        4.800000      31.000000       7.000000      13.000000   \n",
       "50%        8.400000      39.000000      13.000000      19.000000   \n",
       "75%       10.600000      48.000000      19.000000      24.000000   \n",
       "max       14.500000     135.000000     130.000000      87.000000   \n",
       "\n",
       "         Humidity9am    Humidity3pm   Pressure9am    Pressure3pm  \\\n",
       "count  142806.000000  140953.000000  130395.00000  130432.000000   \n",
       "mean       68.880831      51.539116    1017.64994    1015.255889   \n",
       "std        19.029164      20.795902       7.10653       7.037414   \n",
       "min         0.000000       0.000000     980.50000     977.100000   \n",
       "25%        57.000000      37.000000    1012.90000    1010.400000   \n",
       "50%        70.000000      52.000000    1017.60000    1015.200000   \n",
       "75%        83.000000      66.000000    1022.40000    1020.000000   \n",
       "max       100.000000     100.000000    1041.00000    1039.600000   \n",
       "\n",
       "           Cloud9am      Cloud3pm        Temp9am       Temp3pm  \n",
       "count  89572.000000  86102.000000  143693.000000  141851.00000  \n",
       "mean       4.447461      4.509930      16.990631      21.68339  \n",
       "std        2.887159      2.720357       6.488753       6.93665  \n",
       "min        0.000000      0.000000      -7.200000      -5.40000  \n",
       "25%        1.000000      2.000000      12.300000      16.60000  \n",
       "50%        5.000000      5.000000      16.700000      21.10000  \n",
       "75%        7.000000      7.000000      21.600000      26.40000  \n",
       "max        9.000000      9.000000      40.200000      46.70000  "
      ]
     },
     "execution_count": 5,
     "metadata": {},
     "output_type": "execute_result"
    }
   ],
   "source": [
    "df.describe()"
   ]
  },
  {
   "cell_type": "markdown",
   "id": "charitable-bouquet",
   "metadata": {
    "papermill": {
     "duration": 0.04065,
     "end_time": "2021-04-04T07:41:23.766250",
     "exception": false,
     "start_time": "2021-04-04T07:41:23.725600",
     "status": "completed"
    },
    "tags": []
   },
   "source": [
    " - **there are 23 columns, 16 numerical and 7 categorical**\n",
    " - **there 22 feature column and 1 target column**\n",
    " - **there are a lot of missing datas in some columns**\n",
    " "
   ]
  },
  {
   "cell_type": "markdown",
   "id": "twenty-jacket",
   "metadata": {
    "papermill": {
     "duration": 0.040583,
     "end_time": "2021-04-04T07:41:23.847221",
     "exception": false,
     "start_time": "2021-04-04T07:41:23.806638",
     "status": "completed"
    },
    "tags": []
   },
   "source": [
    "# 2.Data preprocessing"
   ]
  },
  {
   "cell_type": "markdown",
   "id": "decreased-dressing",
   "metadata": {
    "papermill": {
     "duration": 0.040405,
     "end_time": "2021-04-04T07:41:23.928122",
     "exception": false,
     "start_time": "2021-04-04T07:41:23.887717",
     "status": "completed"
    },
    "tags": []
   },
   "source": [
    "### 2.1 removing null values"
   ]
  },
  {
   "cell_type": "code",
   "execution_count": 6,
   "id": "minimal-mineral",
   "metadata": {
    "execution": {
     "iopub.execute_input": "2021-04-04T07:41:24.014944Z",
     "iopub.status.busy": "2021-04-04T07:41:24.014223Z",
     "iopub.status.idle": "2021-04-04T07:41:24.122342Z",
     "shell.execute_reply": "2021-04-04T07:41:24.122793Z"
    },
    "papermill": {
     "duration": 0.154173,
     "end_time": "2021-04-04T07:41:24.122966",
     "exception": false,
     "start_time": "2021-04-04T07:41:23.968793",
     "status": "completed"
    },
    "tags": []
   },
   "outputs": [
    {
     "data": {
      "text/plain": [
       "Date                 0\n",
       "Location             0\n",
       "MinTemp           1485\n",
       "MaxTemp           1261\n",
       "Rainfall          3261\n",
       "Evaporation      62790\n",
       "Sunshine         69835\n",
       "WindGustDir      10326\n",
       "WindGustSpeed    10263\n",
       "WindDir9am       10566\n",
       "WindDir3pm        4228\n",
       "WindSpeed9am      1767\n",
       "WindSpeed3pm      3062\n",
       "Humidity9am       2654\n",
       "Humidity3pm       4507\n",
       "Pressure9am      15065\n",
       "Pressure3pm      15028\n",
       "Cloud9am         55888\n",
       "Cloud3pm         59358\n",
       "Temp9am           1767\n",
       "Temp3pm           3609\n",
       "RainToday         3261\n",
       "RainTomorrow      3267\n",
       "dtype: int64"
      ]
     },
     "execution_count": 6,
     "metadata": {},
     "output_type": "execute_result"
    }
   ],
   "source": [
    "df.isna().sum()"
   ]
  },
  {
   "cell_type": "markdown",
   "id": "robust-block",
   "metadata": {
    "papermill": {
     "duration": 0.040992,
     "end_time": "2021-04-04T07:41:24.205754",
     "exception": false,
     "start_time": "2021-04-04T07:41:24.164762",
     "status": "completed"
    },
    "tags": []
   },
   "source": [
    "**We can see the \"Evapration\",\"Sunshine\",\"Cloud9am\" and \"Cloud3pm\" have a lot of missing values, we ignore them for now and drop other missing values.**"
   ]
  },
  {
   "cell_type": "code",
   "execution_count": 7,
   "id": "invalid-generator",
   "metadata": {
    "execution": {
     "iopub.execute_input": "2021-04-04T07:41:24.309713Z",
     "iopub.status.busy": "2021-04-04T07:41:24.309007Z",
     "iopub.status.idle": "2021-04-04T07:41:24.647211Z",
     "shell.execute_reply": "2021-04-04T07:41:24.646530Z"
    },
    "papermill": {
     "duration": 0.39997,
     "end_time": "2021-04-04T07:41:24.647385",
     "exception": false,
     "start_time": "2021-04-04T07:41:24.247415",
     "status": "completed"
    },
    "tags": []
   },
   "outputs": [],
   "source": [
    "drop_columns = list(set(list(df.columns)) - set([\"Evaporation\",\"Sunshine\",\"Cloud9am\",\"Cloud3pm\"]))\n",
    "\n",
    "for column in drop_columns :\n",
    "     df = df[df[column].notna()]\n"
   ]
  },
  {
   "cell_type": "code",
   "execution_count": 8,
   "id": "dominican-auditor",
   "metadata": {
    "execution": {
     "iopub.execute_input": "2021-04-04T07:41:24.741738Z",
     "iopub.status.busy": "2021-04-04T07:41:24.735937Z",
     "iopub.status.idle": "2021-04-04T07:41:24.824694Z",
     "shell.execute_reply": "2021-04-04T07:41:24.824034Z"
    },
    "papermill": {
     "duration": 0.136011,
     "end_time": "2021-04-04T07:41:24.824853",
     "exception": false,
     "start_time": "2021-04-04T07:41:24.688842",
     "status": "completed"
    },
    "tags": []
   },
   "outputs": [
    {
     "data": {
      "text/html": [
       "<div>\n",
       "<style scoped>\n",
       "    .dataframe tbody tr th:only-of-type {\n",
       "        vertical-align: middle;\n",
       "    }\n",
       "\n",
       "    .dataframe tbody tr th {\n",
       "        vertical-align: top;\n",
       "    }\n",
       "\n",
       "    .dataframe thead th {\n",
       "        text-align: right;\n",
       "    }\n",
       "</style>\n",
       "<table border=\"1\" class=\"dataframe\">\n",
       "  <thead>\n",
       "    <tr style=\"text-align: right;\">\n",
       "      <th></th>\n",
       "      <th>Date</th>\n",
       "      <th>Location</th>\n",
       "      <th>MinTemp</th>\n",
       "      <th>MaxTemp</th>\n",
       "      <th>Rainfall</th>\n",
       "      <th>Evaporation</th>\n",
       "      <th>Sunshine</th>\n",
       "      <th>WindGustDir</th>\n",
       "      <th>WindGustSpeed</th>\n",
       "      <th>WindDir9am</th>\n",
       "      <th>...</th>\n",
       "      <th>Humidity9am</th>\n",
       "      <th>Humidity3pm</th>\n",
       "      <th>Pressure9am</th>\n",
       "      <th>Pressure3pm</th>\n",
       "      <th>Cloud9am</th>\n",
       "      <th>Cloud3pm</th>\n",
       "      <th>Temp9am</th>\n",
       "      <th>Temp3pm</th>\n",
       "      <th>RainToday</th>\n",
       "      <th>RainTomorrow</th>\n",
       "    </tr>\n",
       "  </thead>\n",
       "  <tbody>\n",
       "    <tr>\n",
       "      <th>0</th>\n",
       "      <td>2008-12-01</td>\n",
       "      <td>Albury</td>\n",
       "      <td>13.4</td>\n",
       "      <td>22.9</td>\n",
       "      <td>0.6</td>\n",
       "      <td>NaN</td>\n",
       "      <td>NaN</td>\n",
       "      <td>W</td>\n",
       "      <td>44.0</td>\n",
       "      <td>W</td>\n",
       "      <td>...</td>\n",
       "      <td>71.0</td>\n",
       "      <td>22.0</td>\n",
       "      <td>1007.7</td>\n",
       "      <td>1007.1</td>\n",
       "      <td>8.0</td>\n",
       "      <td>NaN</td>\n",
       "      <td>16.9</td>\n",
       "      <td>21.8</td>\n",
       "      <td>No</td>\n",
       "      <td>No</td>\n",
       "    </tr>\n",
       "    <tr>\n",
       "      <th>1</th>\n",
       "      <td>2008-12-02</td>\n",
       "      <td>Albury</td>\n",
       "      <td>7.4</td>\n",
       "      <td>25.1</td>\n",
       "      <td>0.0</td>\n",
       "      <td>NaN</td>\n",
       "      <td>NaN</td>\n",
       "      <td>WNW</td>\n",
       "      <td>44.0</td>\n",
       "      <td>NNW</td>\n",
       "      <td>...</td>\n",
       "      <td>44.0</td>\n",
       "      <td>25.0</td>\n",
       "      <td>1010.6</td>\n",
       "      <td>1007.8</td>\n",
       "      <td>NaN</td>\n",
       "      <td>NaN</td>\n",
       "      <td>17.2</td>\n",
       "      <td>24.3</td>\n",
       "      <td>No</td>\n",
       "      <td>No</td>\n",
       "    </tr>\n",
       "    <tr>\n",
       "      <th>2</th>\n",
       "      <td>2008-12-03</td>\n",
       "      <td>Albury</td>\n",
       "      <td>12.9</td>\n",
       "      <td>25.7</td>\n",
       "      <td>0.0</td>\n",
       "      <td>NaN</td>\n",
       "      <td>NaN</td>\n",
       "      <td>WSW</td>\n",
       "      <td>46.0</td>\n",
       "      <td>W</td>\n",
       "      <td>...</td>\n",
       "      <td>38.0</td>\n",
       "      <td>30.0</td>\n",
       "      <td>1007.6</td>\n",
       "      <td>1008.7</td>\n",
       "      <td>NaN</td>\n",
       "      <td>2.0</td>\n",
       "      <td>21.0</td>\n",
       "      <td>23.2</td>\n",
       "      <td>No</td>\n",
       "      <td>No</td>\n",
       "    </tr>\n",
       "    <tr>\n",
       "      <th>3</th>\n",
       "      <td>2008-12-04</td>\n",
       "      <td>Albury</td>\n",
       "      <td>9.2</td>\n",
       "      <td>28.0</td>\n",
       "      <td>0.0</td>\n",
       "      <td>NaN</td>\n",
       "      <td>NaN</td>\n",
       "      <td>NE</td>\n",
       "      <td>24.0</td>\n",
       "      <td>SE</td>\n",
       "      <td>...</td>\n",
       "      <td>45.0</td>\n",
       "      <td>16.0</td>\n",
       "      <td>1017.6</td>\n",
       "      <td>1012.8</td>\n",
       "      <td>NaN</td>\n",
       "      <td>NaN</td>\n",
       "      <td>18.1</td>\n",
       "      <td>26.5</td>\n",
       "      <td>No</td>\n",
       "      <td>No</td>\n",
       "    </tr>\n",
       "    <tr>\n",
       "      <th>4</th>\n",
       "      <td>2008-12-05</td>\n",
       "      <td>Albury</td>\n",
       "      <td>17.5</td>\n",
       "      <td>32.3</td>\n",
       "      <td>1.0</td>\n",
       "      <td>NaN</td>\n",
       "      <td>NaN</td>\n",
       "      <td>W</td>\n",
       "      <td>41.0</td>\n",
       "      <td>ENE</td>\n",
       "      <td>...</td>\n",
       "      <td>82.0</td>\n",
       "      <td>33.0</td>\n",
       "      <td>1010.8</td>\n",
       "      <td>1006.0</td>\n",
       "      <td>7.0</td>\n",
       "      <td>8.0</td>\n",
       "      <td>17.8</td>\n",
       "      <td>29.7</td>\n",
       "      <td>No</td>\n",
       "      <td>No</td>\n",
       "    </tr>\n",
       "    <tr>\n",
       "      <th>...</th>\n",
       "      <td>...</td>\n",
       "      <td>...</td>\n",
       "      <td>...</td>\n",
       "      <td>...</td>\n",
       "      <td>...</td>\n",
       "      <td>...</td>\n",
       "      <td>...</td>\n",
       "      <td>...</td>\n",
       "      <td>...</td>\n",
       "      <td>...</td>\n",
       "      <td>...</td>\n",
       "      <td>...</td>\n",
       "      <td>...</td>\n",
       "      <td>...</td>\n",
       "      <td>...</td>\n",
       "      <td>...</td>\n",
       "      <td>...</td>\n",
       "      <td>...</td>\n",
       "      <td>...</td>\n",
       "      <td>...</td>\n",
       "      <td>...</td>\n",
       "    </tr>\n",
       "    <tr>\n",
       "      <th>145454</th>\n",
       "      <td>2017-06-20</td>\n",
       "      <td>Uluru</td>\n",
       "      <td>3.5</td>\n",
       "      <td>21.8</td>\n",
       "      <td>0.0</td>\n",
       "      <td>NaN</td>\n",
       "      <td>NaN</td>\n",
       "      <td>E</td>\n",
       "      <td>31.0</td>\n",
       "      <td>ESE</td>\n",
       "      <td>...</td>\n",
       "      <td>59.0</td>\n",
       "      <td>27.0</td>\n",
       "      <td>1024.7</td>\n",
       "      <td>1021.2</td>\n",
       "      <td>NaN</td>\n",
       "      <td>NaN</td>\n",
       "      <td>9.4</td>\n",
       "      <td>20.9</td>\n",
       "      <td>No</td>\n",
       "      <td>No</td>\n",
       "    </tr>\n",
       "    <tr>\n",
       "      <th>145455</th>\n",
       "      <td>2017-06-21</td>\n",
       "      <td>Uluru</td>\n",
       "      <td>2.8</td>\n",
       "      <td>23.4</td>\n",
       "      <td>0.0</td>\n",
       "      <td>NaN</td>\n",
       "      <td>NaN</td>\n",
       "      <td>E</td>\n",
       "      <td>31.0</td>\n",
       "      <td>SE</td>\n",
       "      <td>...</td>\n",
       "      <td>51.0</td>\n",
       "      <td>24.0</td>\n",
       "      <td>1024.6</td>\n",
       "      <td>1020.3</td>\n",
       "      <td>NaN</td>\n",
       "      <td>NaN</td>\n",
       "      <td>10.1</td>\n",
       "      <td>22.4</td>\n",
       "      <td>No</td>\n",
       "      <td>No</td>\n",
       "    </tr>\n",
       "    <tr>\n",
       "      <th>145456</th>\n",
       "      <td>2017-06-22</td>\n",
       "      <td>Uluru</td>\n",
       "      <td>3.6</td>\n",
       "      <td>25.3</td>\n",
       "      <td>0.0</td>\n",
       "      <td>NaN</td>\n",
       "      <td>NaN</td>\n",
       "      <td>NNW</td>\n",
       "      <td>22.0</td>\n",
       "      <td>SE</td>\n",
       "      <td>...</td>\n",
       "      <td>56.0</td>\n",
       "      <td>21.0</td>\n",
       "      <td>1023.5</td>\n",
       "      <td>1019.1</td>\n",
       "      <td>NaN</td>\n",
       "      <td>NaN</td>\n",
       "      <td>10.9</td>\n",
       "      <td>24.5</td>\n",
       "      <td>No</td>\n",
       "      <td>No</td>\n",
       "    </tr>\n",
       "    <tr>\n",
       "      <th>145457</th>\n",
       "      <td>2017-06-23</td>\n",
       "      <td>Uluru</td>\n",
       "      <td>5.4</td>\n",
       "      <td>26.9</td>\n",
       "      <td>0.0</td>\n",
       "      <td>NaN</td>\n",
       "      <td>NaN</td>\n",
       "      <td>N</td>\n",
       "      <td>37.0</td>\n",
       "      <td>SE</td>\n",
       "      <td>...</td>\n",
       "      <td>53.0</td>\n",
       "      <td>24.0</td>\n",
       "      <td>1021.0</td>\n",
       "      <td>1016.8</td>\n",
       "      <td>NaN</td>\n",
       "      <td>NaN</td>\n",
       "      <td>12.5</td>\n",
       "      <td>26.1</td>\n",
       "      <td>No</td>\n",
       "      <td>No</td>\n",
       "    </tr>\n",
       "    <tr>\n",
       "      <th>145458</th>\n",
       "      <td>2017-06-24</td>\n",
       "      <td>Uluru</td>\n",
       "      <td>7.8</td>\n",
       "      <td>27.0</td>\n",
       "      <td>0.0</td>\n",
       "      <td>NaN</td>\n",
       "      <td>NaN</td>\n",
       "      <td>SE</td>\n",
       "      <td>28.0</td>\n",
       "      <td>SSE</td>\n",
       "      <td>...</td>\n",
       "      <td>51.0</td>\n",
       "      <td>24.0</td>\n",
       "      <td>1019.4</td>\n",
       "      <td>1016.5</td>\n",
       "      <td>3.0</td>\n",
       "      <td>2.0</td>\n",
       "      <td>15.1</td>\n",
       "      <td>26.0</td>\n",
       "      <td>No</td>\n",
       "      <td>No</td>\n",
       "    </tr>\n",
       "  </tbody>\n",
       "</table>\n",
       "<p>112925 rows × 23 columns</p>\n",
       "</div>"
      ],
      "text/plain": [
       "              Date Location  MinTemp  MaxTemp  Rainfall  Evaporation  \\\n",
       "0       2008-12-01   Albury     13.4     22.9       0.6          NaN   \n",
       "1       2008-12-02   Albury      7.4     25.1       0.0          NaN   \n",
       "2       2008-12-03   Albury     12.9     25.7       0.0          NaN   \n",
       "3       2008-12-04   Albury      9.2     28.0       0.0          NaN   \n",
       "4       2008-12-05   Albury     17.5     32.3       1.0          NaN   \n",
       "...            ...      ...      ...      ...       ...          ...   \n",
       "145454  2017-06-20    Uluru      3.5     21.8       0.0          NaN   \n",
       "145455  2017-06-21    Uluru      2.8     23.4       0.0          NaN   \n",
       "145456  2017-06-22    Uluru      3.6     25.3       0.0          NaN   \n",
       "145457  2017-06-23    Uluru      5.4     26.9       0.0          NaN   \n",
       "145458  2017-06-24    Uluru      7.8     27.0       0.0          NaN   \n",
       "\n",
       "        Sunshine WindGustDir  WindGustSpeed WindDir9am  ... Humidity9am  \\\n",
       "0            NaN           W           44.0          W  ...        71.0   \n",
       "1            NaN         WNW           44.0        NNW  ...        44.0   \n",
       "2            NaN         WSW           46.0          W  ...        38.0   \n",
       "3            NaN          NE           24.0         SE  ...        45.0   \n",
       "4            NaN           W           41.0        ENE  ...        82.0   \n",
       "...          ...         ...            ...        ...  ...         ...   \n",
       "145454       NaN           E           31.0        ESE  ...        59.0   \n",
       "145455       NaN           E           31.0         SE  ...        51.0   \n",
       "145456       NaN         NNW           22.0         SE  ...        56.0   \n",
       "145457       NaN           N           37.0         SE  ...        53.0   \n",
       "145458       NaN          SE           28.0        SSE  ...        51.0   \n",
       "\n",
       "        Humidity3pm  Pressure9am  Pressure3pm  Cloud9am  Cloud3pm  Temp9am  \\\n",
       "0              22.0       1007.7       1007.1       8.0       NaN     16.9   \n",
       "1              25.0       1010.6       1007.8       NaN       NaN     17.2   \n",
       "2              30.0       1007.6       1008.7       NaN       2.0     21.0   \n",
       "3              16.0       1017.6       1012.8       NaN       NaN     18.1   \n",
       "4              33.0       1010.8       1006.0       7.0       8.0     17.8   \n",
       "...             ...          ...          ...       ...       ...      ...   \n",
       "145454         27.0       1024.7       1021.2       NaN       NaN      9.4   \n",
       "145455         24.0       1024.6       1020.3       NaN       NaN     10.1   \n",
       "145456         21.0       1023.5       1019.1       NaN       NaN     10.9   \n",
       "145457         24.0       1021.0       1016.8       NaN       NaN     12.5   \n",
       "145458         24.0       1019.4       1016.5       3.0       2.0     15.1   \n",
       "\n",
       "        Temp3pm  RainToday  RainTomorrow  \n",
       "0          21.8         No            No  \n",
       "1          24.3         No            No  \n",
       "2          23.2         No            No  \n",
       "3          26.5         No            No  \n",
       "4          29.7         No            No  \n",
       "...         ...        ...           ...  \n",
       "145454     20.9         No            No  \n",
       "145455     22.4         No            No  \n",
       "145456     24.5         No            No  \n",
       "145457     26.1         No            No  \n",
       "145458     26.0         No            No  \n",
       "\n",
       "[112925 rows x 23 columns]"
      ]
     },
     "execution_count": 8,
     "metadata": {},
     "output_type": "execute_result"
    }
   ],
   "source": [
    "df"
   ]
  },
  {
   "cell_type": "markdown",
   "id": "spread-world",
   "metadata": {
    "papermill": {
     "duration": 0.044288,
     "end_time": "2021-04-04T07:41:24.912757",
     "exception": false,
     "start_time": "2021-04-04T07:41:24.868469",
     "status": "completed"
    },
    "tags": []
   },
   "source": [
    "**Now for \"Evaporation\",\"Sunshine\",\"Cloud9am\" and \"Cloud3pm\", since data was gathered from diffrent locations, there is a possibility that some stations couldnt provide this information, so its better check this possibility first.**"
   ]
  },
  {
   "cell_type": "code",
   "execution_count": 9,
   "id": "continent-corrections",
   "metadata": {
    "execution": {
     "iopub.execute_input": "2021-04-04T07:41:25.004495Z",
     "iopub.status.busy": "2021-04-04T07:41:25.003795Z",
     "iopub.status.idle": "2021-04-04T07:41:25.586644Z",
     "shell.execute_reply": "2021-04-04T07:41:25.585857Z"
    },
    "papermill": {
     "duration": 0.631632,
     "end_time": "2021-04-04T07:41:25.586799",
     "exception": false,
     "start_time": "2021-04-04T07:41:24.955167",
     "status": "completed"
    },
    "tags": []
   },
   "outputs": [
    {
     "data": {
      "image/png": "[encoded data removed]",
      "text/plain": [
       "<Figure size 720x360 with 1 Axes>"
      ]
     },
     "metadata": {
      "needs_background": "light"
     },
     "output_type": "display_data"
    }
   ],
   "source": [
    "df_null= df[df.isnull().any(axis=1)]\n",
    "dict_data = df_null['Location'].value_counts().to_dict()\n",
    "plt.figure(figsize=(10,5)) \n",
    "plt.bar(list(dict_data.keys()),list(dict_data.values()))\n",
    "plt.xticks(list(dict_data.keys()), rotation='vertical')\n",
    "plt.show()\n"
   ]
  },
  {
   "cell_type": "markdown",
   "id": "lesbian-validity",
   "metadata": {
    "papermill": {
     "duration": 0.043221,
     "end_time": "2021-04-04T07:41:25.674222",
     "exception": false,
     "start_time": "2021-04-04T07:41:25.631001",
     "status": "completed"
    },
    "tags": []
   },
   "source": [
    "**No location has noticeably larager amount of missing data than the others, so the best thing to do is to drop the features**"
   ]
  },
  {
   "cell_type": "code",
   "execution_count": 10,
   "id": "documentary-colony",
   "metadata": {
    "execution": {
     "iopub.execute_input": "2021-04-04T07:41:25.771125Z",
     "iopub.status.busy": "2021-04-04T07:41:25.769994Z",
     "iopub.status.idle": "2021-04-04T07:41:25.905336Z",
     "shell.execute_reply": "2021-04-04T07:41:25.904636Z"
    },
    "papermill": {
     "duration": 0.186687,
     "end_time": "2021-04-04T07:41:25.905487",
     "exception": false,
     "start_time": "2021-04-04T07:41:25.718800",
     "status": "completed"
    },
    "tags": []
   },
   "outputs": [
    {
     "data": {
      "text/html": [
       "<div>\n",
       "<style scoped>\n",
       "    .dataframe tbody tr th:only-of-type {\n",
       "        vertical-align: middle;\n",
       "    }\n",
       "\n",
       "    .dataframe tbody tr th {\n",
       "        vertical-align: top;\n",
       "    }\n",
       "\n",
       "    .dataframe thead th {\n",
       "        text-align: right;\n",
       "    }\n",
       "</style>\n",
       "<table border=\"1\" class=\"dataframe\">\n",
       "  <thead>\n",
       "    <tr style=\"text-align: right;\">\n",
       "      <th></th>\n",
       "      <th>Date</th>\n",
       "      <th>Location</th>\n",
       "      <th>MinTemp</th>\n",
       "      <th>MaxTemp</th>\n",
       "      <th>Rainfall</th>\n",
       "      <th>WindGustDir</th>\n",
       "      <th>WindGustSpeed</th>\n",
       "      <th>WindDir9am</th>\n",
       "      <th>WindDir3pm</th>\n",
       "      <th>WindSpeed9am</th>\n",
       "      <th>WindSpeed3pm</th>\n",
       "      <th>Humidity9am</th>\n",
       "      <th>Humidity3pm</th>\n",
       "      <th>Pressure9am</th>\n",
       "      <th>Pressure3pm</th>\n",
       "      <th>Temp9am</th>\n",
       "      <th>Temp3pm</th>\n",
       "      <th>RainToday</th>\n",
       "      <th>RainTomorrow</th>\n",
       "    </tr>\n",
       "  </thead>\n",
       "  <tbody>\n",
       "    <tr>\n",
       "      <th>0</th>\n",
       "      <td>2008-12-01</td>\n",
       "      <td>Albury</td>\n",
       "      <td>13.4</td>\n",
       "      <td>22.9</td>\n",
       "      <td>0.6</td>\n",
       "      <td>W</td>\n",
       "      <td>44.0</td>\n",
       "      <td>W</td>\n",
       "      <td>WNW</td>\n",
       "      <td>20.0</td>\n",
       "      <td>24.0</td>\n",
       "      <td>71.0</td>\n",
       "      <td>22.0</td>\n",
       "      <td>1007.7</td>\n",
       "      <td>1007.1</td>\n",
       "      <td>16.9</td>\n",
       "      <td>21.8</td>\n",
       "      <td>No</td>\n",
       "      <td>No</td>\n",
       "    </tr>\n",
       "    <tr>\n",
       "      <th>1</th>\n",
       "      <td>2008-12-02</td>\n",
       "      <td>Albury</td>\n",
       "      <td>7.4</td>\n",
       "      <td>25.1</td>\n",
       "      <td>0.0</td>\n",
       "      <td>WNW</td>\n",
       "      <td>44.0</td>\n",
       "      <td>NNW</td>\n",
       "      <td>WSW</td>\n",
       "      <td>4.0</td>\n",
       "      <td>22.0</td>\n",
       "      <td>44.0</td>\n",
       "      <td>25.0</td>\n",
       "      <td>1010.6</td>\n",
       "      <td>1007.8</td>\n",
       "      <td>17.2</td>\n",
       "      <td>24.3</td>\n",
       "      <td>No</td>\n",
       "      <td>No</td>\n",
       "    </tr>\n",
       "    <tr>\n",
       "      <th>2</th>\n",
       "      <td>2008-12-03</td>\n",
       "      <td>Albury</td>\n",
       "      <td>12.9</td>\n",
       "      <td>25.7</td>\n",
       "      <td>0.0</td>\n",
       "      <td>WSW</td>\n",
       "      <td>46.0</td>\n",
       "      <td>W</td>\n",
       "      <td>WSW</td>\n",
       "      <td>19.0</td>\n",
       "      <td>26.0</td>\n",
       "      <td>38.0</td>\n",
       "      <td>30.0</td>\n",
       "      <td>1007.6</td>\n",
       "      <td>1008.7</td>\n",
       "      <td>21.0</td>\n",
       "      <td>23.2</td>\n",
       "      <td>No</td>\n",
       "      <td>No</td>\n",
       "    </tr>\n",
       "    <tr>\n",
       "      <th>3</th>\n",
       "      <td>2008-12-04</td>\n",
       "      <td>Albury</td>\n",
       "      <td>9.2</td>\n",
       "      <td>28.0</td>\n",
       "      <td>0.0</td>\n",
       "      <td>NE</td>\n",
       "      <td>24.0</td>\n",
       "      <td>SE</td>\n",
       "      <td>E</td>\n",
       "      <td>11.0</td>\n",
       "      <td>9.0</td>\n",
       "      <td>45.0</td>\n",
       "      <td>16.0</td>\n",
       "      <td>1017.6</td>\n",
       "      <td>1012.8</td>\n",
       "      <td>18.1</td>\n",
       "      <td>26.5</td>\n",
       "      <td>No</td>\n",
       "      <td>No</td>\n",
       "    </tr>\n",
       "    <tr>\n",
       "      <th>4</th>\n",
       "      <td>2008-12-05</td>\n",
       "      <td>Albury</td>\n",
       "      <td>17.5</td>\n",
       "      <td>32.3</td>\n",
       "      <td>1.0</td>\n",
       "      <td>W</td>\n",
       "      <td>41.0</td>\n",
       "      <td>ENE</td>\n",
       "      <td>NW</td>\n",
       "      <td>7.0</td>\n",
       "      <td>20.0</td>\n",
       "      <td>82.0</td>\n",
       "      <td>33.0</td>\n",
       "      <td>1010.8</td>\n",
       "      <td>1006.0</td>\n",
       "      <td>17.8</td>\n",
       "      <td>29.7</td>\n",
       "      <td>No</td>\n",
       "      <td>No</td>\n",
       "    </tr>\n",
       "    <tr>\n",
       "      <th>...</th>\n",
       "      <td>...</td>\n",
       "      <td>...</td>\n",
       "      <td>...</td>\n",
       "      <td>...</td>\n",
       "      <td>...</td>\n",
       "      <td>...</td>\n",
       "      <td>...</td>\n",
       "      <td>...</td>\n",
       "      <td>...</td>\n",
       "      <td>...</td>\n",
       "      <td>...</td>\n",
       "      <td>...</td>\n",
       "      <td>...</td>\n",
       "      <td>...</td>\n",
       "      <td>...</td>\n",
       "      <td>...</td>\n",
       "      <td>...</td>\n",
       "      <td>...</td>\n",
       "      <td>...</td>\n",
       "    </tr>\n",
       "    <tr>\n",
       "      <th>145454</th>\n",
       "      <td>2017-06-20</td>\n",
       "      <td>Uluru</td>\n",
       "      <td>3.5</td>\n",
       "      <td>21.8</td>\n",
       "      <td>0.0</td>\n",
       "      <td>E</td>\n",
       "      <td>31.0</td>\n",
       "      <td>ESE</td>\n",
       "      <td>E</td>\n",
       "      <td>15.0</td>\n",
       "      <td>13.0</td>\n",
       "      <td>59.0</td>\n",
       "      <td>27.0</td>\n",
       "      <td>1024.7</td>\n",
       "      <td>1021.2</td>\n",
       "      <td>9.4</td>\n",
       "      <td>20.9</td>\n",
       "      <td>No</td>\n",
       "      <td>No</td>\n",
       "    </tr>\n",
       "    <tr>\n",
       "      <th>145455</th>\n",
       "      <td>2017-06-21</td>\n",
       "      <td>Uluru</td>\n",
       "      <td>2.8</td>\n",
       "      <td>23.4</td>\n",
       "      <td>0.0</td>\n",
       "      <td>E</td>\n",
       "      <td>31.0</td>\n",
       "      <td>SE</td>\n",
       "      <td>ENE</td>\n",
       "      <td>13.0</td>\n",
       "      <td>11.0</td>\n",
       "      <td>51.0</td>\n",
       "      <td>24.0</td>\n",
       "      <td>1024.6</td>\n",
       "      <td>1020.3</td>\n",
       "      <td>10.1</td>\n",
       "      <td>22.4</td>\n",
       "      <td>No</td>\n",
       "      <td>No</td>\n",
       "    </tr>\n",
       "    <tr>\n",
       "      <th>145456</th>\n",
       "      <td>2017-06-22</td>\n",
       "      <td>Uluru</td>\n",
       "      <td>3.6</td>\n",
       "      <td>25.3</td>\n",
       "      <td>0.0</td>\n",
       "      <td>NNW</td>\n",
       "      <td>22.0</td>\n",
       "      <td>SE</td>\n",
       "      <td>N</td>\n",
       "      <td>13.0</td>\n",
       "      <td>9.0</td>\n",
       "      <td>56.0</td>\n",
       "      <td>21.0</td>\n",
       "      <td>1023.5</td>\n",
       "      <td>1019.1</td>\n",
       "      <td>10.9</td>\n",
       "      <td>24.5</td>\n",
       "      <td>No</td>\n",
       "      <td>No</td>\n",
       "    </tr>\n",
       "    <tr>\n",
       "      <th>145457</th>\n",
       "      <td>2017-06-23</td>\n",
       "      <td>Uluru</td>\n",
       "      <td>5.4</td>\n",
       "      <td>26.9</td>\n",
       "      <td>0.0</td>\n",
       "      <td>N</td>\n",
       "      <td>37.0</td>\n",
       "      <td>SE</td>\n",
       "      <td>WNW</td>\n",
       "      <td>9.0</td>\n",
       "      <td>9.0</td>\n",
       "      <td>53.0</td>\n",
       "      <td>24.0</td>\n",
       "      <td>1021.0</td>\n",
       "      <td>1016.8</td>\n",
       "      <td>12.5</td>\n",
       "      <td>26.1</td>\n",
       "      <td>No</td>\n",
       "      <td>No</td>\n",
       "    </tr>\n",
       "    <tr>\n",
       "      <th>145458</th>\n",
       "      <td>2017-06-24</td>\n",
       "      <td>Uluru</td>\n",
       "      <td>7.8</td>\n",
       "      <td>27.0</td>\n",
       "      <td>0.0</td>\n",
       "      <td>SE</td>\n",
       "      <td>28.0</td>\n",
       "      <td>SSE</td>\n",
       "      <td>N</td>\n",
       "      <td>13.0</td>\n",
       "      <td>7.0</td>\n",
       "      <td>51.0</td>\n",
       "      <td>24.0</td>\n",
       "      <td>1019.4</td>\n",
       "      <td>1016.5</td>\n",
       "      <td>15.1</td>\n",
       "      <td>26.0</td>\n",
       "      <td>No</td>\n",
       "      <td>No</td>\n",
       "    </tr>\n",
       "  </tbody>\n",
       "</table>\n",
       "<p>112925 rows × 19 columns</p>\n",
       "</div>"
      ],
      "text/plain": [
       "              Date Location  MinTemp  MaxTemp  Rainfall WindGustDir  \\\n",
       "0       2008-12-01   Albury     13.4     22.9       0.6           W   \n",
       "1       2008-12-02   Albury      7.4     25.1       0.0         WNW   \n",
       "2       2008-12-03   Albury     12.9     25.7       0.0         WSW   \n",
       "3       2008-12-04   Albury      9.2     28.0       0.0          NE   \n",
       "4       2008-12-05   Albury     17.5     32.3       1.0           W   \n",
       "...            ...      ...      ...      ...       ...         ...   \n",
       "145454  2017-06-20    Uluru      3.5     21.8       0.0           E   \n",
       "145455  2017-06-21    Uluru      2.8     23.4       0.0           E   \n",
       "145456  2017-06-22    Uluru      3.6     25.3       0.0         NNW   \n",
       "145457  2017-06-23    Uluru      5.4     26.9       0.0           N   \n",
       "145458  2017-06-24    Uluru      7.8     27.0       0.0          SE   \n",
       "\n",
       "        WindGustSpeed WindDir9am WindDir3pm  WindSpeed9am  WindSpeed3pm  \\\n",
       "0                44.0          W        WNW          20.0          24.0   \n",
       "1                44.0        NNW        WSW           4.0          22.0   \n",
       "2                46.0          W        WSW          19.0          26.0   \n",
       "3                24.0         SE          E          11.0           9.0   \n",
       "4                41.0        ENE         NW           7.0          20.0   \n",
       "...               ...        ...        ...           ...           ...   \n",
       "145454           31.0        ESE          E          15.0          13.0   \n",
       "145455           31.0         SE        ENE          13.0          11.0   \n",
       "145456           22.0         SE          N          13.0           9.0   \n",
       "145457           37.0         SE        WNW           9.0           9.0   \n",
       "145458           28.0        SSE          N          13.0           7.0   \n",
       "\n",
       "        Humidity9am  Humidity3pm  Pressure9am  Pressure3pm  Temp9am  Temp3pm  \\\n",
       "0              71.0         22.0       1007.7       1007.1     16.9     21.8   \n",
       "1              44.0         25.0       1010.6       1007.8     17.2     24.3   \n",
       "2              38.0         30.0       1007.6       1008.7     21.0     23.2   \n",
       "3              45.0         16.0       1017.6       1012.8     18.1     26.5   \n",
       "4              82.0         33.0       1010.8       1006.0     17.8     29.7   \n",
       "...             ...          ...          ...          ...      ...      ...   \n",
       "145454         59.0         27.0       1024.7       1021.2      9.4     20.9   \n",
       "145455         51.0         24.0       1024.6       1020.3     10.1     22.4   \n",
       "145456         56.0         21.0       1023.5       1019.1     10.9     24.5   \n",
       "145457         53.0         24.0       1021.0       1016.8     12.5     26.1   \n",
       "145458         51.0         24.0       1019.4       1016.5     15.1     26.0   \n",
       "\n",
       "       RainToday RainTomorrow  \n",
       "0             No           No  \n",
       "1             No           No  \n",
       "2             No           No  \n",
       "3             No           No  \n",
       "4             No           No  \n",
       "...          ...          ...  \n",
       "145454        No           No  \n",
       "145455        No           No  \n",
       "145456        No           No  \n",
       "145457        No           No  \n",
       "145458        No           No  \n",
       "\n",
       "[112925 rows x 19 columns]"
      ]
     },
     "execution_count": 10,
     "metadata": {},
     "output_type": "execute_result"
    }
   ],
   "source": [
    "df.drop([\"Evaporation\",\"Sunshine\",\"Cloud9am\",\"Cloud3pm\"],axis=1,inplace=True)\n",
    "df.isna().sum()\n",
    "df"
   ]
  },
  {
   "cell_type": "markdown",
   "id": "further-composer",
   "metadata": {
    "papermill": {
     "duration": 0.045413,
     "end_time": "2021-04-04T07:41:25.995962",
     "exception": false,
     "start_time": "2021-04-04T07:41:25.950549",
     "status": "completed"
    },
    "tags": []
   },
   "source": [
    "### 2.2 removing the outliers"
   ]
  },
  {
   "cell_type": "code",
   "execution_count": 11,
   "id": "dominican-genesis",
   "metadata": {
    "execution": {
     "iopub.execute_input": "2021-04-04T07:41:26.099241Z",
     "iopub.status.busy": "2021-04-04T07:41:26.098535Z",
     "iopub.status.idle": "2021-04-04T07:41:26.134014Z",
     "shell.execute_reply": "2021-04-04T07:41:26.133344Z"
    },
    "papermill": {
     "duration": 0.0907,
     "end_time": "2021-04-04T07:41:26.134159",
     "exception": false,
     "start_time": "2021-04-04T07:41:26.043459",
     "status": "completed"
    },
    "tags": []
   },
   "outputs": [],
   "source": [
    "df_numeric = df.select_dtypes('float64')\n",
    "df_numeric_z= df_numeric[(np.abs(stats.zscore(df_numeric)) < 3).all(axis=1)]\n",
    "columns_to_drop = df.select_dtypes(include=np.number).columns.tolist()\n",
    "df = df.drop(columns_to_drop,axis=1)\n"
   ]
  },
  {
   "cell_type": "code",
   "execution_count": 12,
   "id": "rolled-bowling",
   "metadata": {
    "execution": {
     "iopub.execute_input": "2021-04-04T07:41:26.232990Z",
     "iopub.status.busy": "2021-04-04T07:41:26.232233Z",
     "iopub.status.idle": "2021-04-04T07:41:26.402443Z",
     "shell.execute_reply": "2021-04-04T07:41:26.401882Z"
    },
    "papermill": {
     "duration": 0.223271,
     "end_time": "2021-04-04T07:41:26.402600",
     "exception": false,
     "start_time": "2021-04-04T07:41:26.179329",
     "status": "completed"
    },
    "tags": []
   },
   "outputs": [],
   "source": [
    "df[columns_to_drop] = df_numeric_z[columns_to_drop]\n",
    "df = df.dropna()"
   ]
  },
  {
   "cell_type": "code",
   "execution_count": 13,
   "id": "administrative-antarctica",
   "metadata": {
    "execution": {
     "iopub.execute_input": "2021-04-04T07:41:26.534228Z",
     "iopub.status.busy": "2021-04-04T07:41:26.529831Z",
     "iopub.status.idle": "2021-04-04T07:41:26.539319Z",
     "shell.execute_reply": "2021-04-04T07:41:26.539843Z"
    },
    "papermill": {
     "duration": 0.092216,
     "end_time": "2021-04-04T07:41:26.540014",
     "exception": false,
     "start_time": "2021-04-04T07:41:26.447798",
     "status": "completed"
    },
    "tags": []
   },
   "outputs": [
    {
     "data": {
      "text/html": [
       "<div>\n",
       "<style scoped>\n",
       "    .dataframe tbody tr th:only-of-type {\n",
       "        vertical-align: middle;\n",
       "    }\n",
       "\n",
       "    .dataframe tbody tr th {\n",
       "        vertical-align: top;\n",
       "    }\n",
       "\n",
       "    .dataframe thead th {\n",
       "        text-align: right;\n",
       "    }\n",
       "</style>\n",
       "<table border=\"1\" class=\"dataframe\">\n",
       "  <thead>\n",
       "    <tr style=\"text-align: right;\">\n",
       "      <th></th>\n",
       "      <th>Date</th>\n",
       "      <th>Location</th>\n",
       "      <th>WindGustDir</th>\n",
       "      <th>WindDir9am</th>\n",
       "      <th>WindDir3pm</th>\n",
       "      <th>RainToday</th>\n",
       "      <th>RainTomorrow</th>\n",
       "      <th>MinTemp</th>\n",
       "      <th>MaxTemp</th>\n",
       "      <th>Rainfall</th>\n",
       "      <th>WindGustSpeed</th>\n",
       "      <th>WindSpeed9am</th>\n",
       "      <th>WindSpeed3pm</th>\n",
       "      <th>Humidity9am</th>\n",
       "      <th>Humidity3pm</th>\n",
       "      <th>Pressure9am</th>\n",
       "      <th>Pressure3pm</th>\n",
       "      <th>Temp9am</th>\n",
       "      <th>Temp3pm</th>\n",
       "    </tr>\n",
       "  </thead>\n",
       "  <tbody>\n",
       "    <tr>\n",
       "      <th>0</th>\n",
       "      <td>2008-12-01</td>\n",
       "      <td>Albury</td>\n",
       "      <td>W</td>\n",
       "      <td>W</td>\n",
       "      <td>WNW</td>\n",
       "      <td>No</td>\n",
       "      <td>No</td>\n",
       "      <td>13.4</td>\n",
       "      <td>22.9</td>\n",
       "      <td>0.6</td>\n",
       "      <td>44.0</td>\n",
       "      <td>20.0</td>\n",
       "      <td>24.0</td>\n",
       "      <td>71.0</td>\n",
       "      <td>22.0</td>\n",
       "      <td>1007.7</td>\n",
       "      <td>1007.1</td>\n",
       "      <td>16.9</td>\n",
       "      <td>21.8</td>\n",
       "    </tr>\n",
       "    <tr>\n",
       "      <th>1</th>\n",
       "      <td>2008-12-02</td>\n",
       "      <td>Albury</td>\n",
       "      <td>WNW</td>\n",
       "      <td>NNW</td>\n",
       "      <td>WSW</td>\n",
       "      <td>No</td>\n",
       "      <td>No</td>\n",
       "      <td>7.4</td>\n",
       "      <td>25.1</td>\n",
       "      <td>0.0</td>\n",
       "      <td>44.0</td>\n",
       "      <td>4.0</td>\n",
       "      <td>22.0</td>\n",
       "      <td>44.0</td>\n",
       "      <td>25.0</td>\n",
       "      <td>1010.6</td>\n",
       "      <td>1007.8</td>\n",
       "      <td>17.2</td>\n",
       "      <td>24.3</td>\n",
       "    </tr>\n",
       "    <tr>\n",
       "      <th>2</th>\n",
       "      <td>2008-12-03</td>\n",
       "      <td>Albury</td>\n",
       "      <td>WSW</td>\n",
       "      <td>W</td>\n",
       "      <td>WSW</td>\n",
       "      <td>No</td>\n",
       "      <td>No</td>\n",
       "      <td>12.9</td>\n",
       "      <td>25.7</td>\n",
       "      <td>0.0</td>\n",
       "      <td>46.0</td>\n",
       "      <td>19.0</td>\n",
       "      <td>26.0</td>\n",
       "      <td>38.0</td>\n",
       "      <td>30.0</td>\n",
       "      <td>1007.6</td>\n",
       "      <td>1008.7</td>\n",
       "      <td>21.0</td>\n",
       "      <td>23.2</td>\n",
       "    </tr>\n",
       "    <tr>\n",
       "      <th>3</th>\n",
       "      <td>2008-12-04</td>\n",
       "      <td>Albury</td>\n",
       "      <td>NE</td>\n",
       "      <td>SE</td>\n",
       "      <td>E</td>\n",
       "      <td>No</td>\n",
       "      <td>No</td>\n",
       "      <td>9.2</td>\n",
       "      <td>28.0</td>\n",
       "      <td>0.0</td>\n",
       "      <td>24.0</td>\n",
       "      <td>11.0</td>\n",
       "      <td>9.0</td>\n",
       "      <td>45.0</td>\n",
       "      <td>16.0</td>\n",
       "      <td>1017.6</td>\n",
       "      <td>1012.8</td>\n",
       "      <td>18.1</td>\n",
       "      <td>26.5</td>\n",
       "    </tr>\n",
       "    <tr>\n",
       "      <th>4</th>\n",
       "      <td>2008-12-05</td>\n",
       "      <td>Albury</td>\n",
       "      <td>W</td>\n",
       "      <td>ENE</td>\n",
       "      <td>NW</td>\n",
       "      <td>No</td>\n",
       "      <td>No</td>\n",
       "      <td>17.5</td>\n",
       "      <td>32.3</td>\n",
       "      <td>1.0</td>\n",
       "      <td>41.0</td>\n",
       "      <td>7.0</td>\n",
       "      <td>20.0</td>\n",
       "      <td>82.0</td>\n",
       "      <td>33.0</td>\n",
       "      <td>1010.8</td>\n",
       "      <td>1006.0</td>\n",
       "      <td>17.8</td>\n",
       "      <td>29.7</td>\n",
       "    </tr>\n",
       "    <tr>\n",
       "      <th>...</th>\n",
       "      <td>...</td>\n",
       "      <td>...</td>\n",
       "      <td>...</td>\n",
       "      <td>...</td>\n",
       "      <td>...</td>\n",
       "      <td>...</td>\n",
       "      <td>...</td>\n",
       "      <td>...</td>\n",
       "      <td>...</td>\n",
       "      <td>...</td>\n",
       "      <td>...</td>\n",
       "      <td>...</td>\n",
       "      <td>...</td>\n",
       "      <td>...</td>\n",
       "      <td>...</td>\n",
       "      <td>...</td>\n",
       "      <td>...</td>\n",
       "      <td>...</td>\n",
       "      <td>...</td>\n",
       "    </tr>\n",
       "    <tr>\n",
       "      <th>145454</th>\n",
       "      <td>2017-06-20</td>\n",
       "      <td>Uluru</td>\n",
       "      <td>E</td>\n",
       "      <td>ESE</td>\n",
       "      <td>E</td>\n",
       "      <td>No</td>\n",
       "      <td>No</td>\n",
       "      <td>3.5</td>\n",
       "      <td>21.8</td>\n",
       "      <td>0.0</td>\n",
       "      <td>31.0</td>\n",
       "      <td>15.0</td>\n",
       "      <td>13.0</td>\n",
       "      <td>59.0</td>\n",
       "      <td>27.0</td>\n",
       "      <td>1024.7</td>\n",
       "      <td>1021.2</td>\n",
       "      <td>9.4</td>\n",
       "      <td>20.9</td>\n",
       "    </tr>\n",
       "    <tr>\n",
       "      <th>145455</th>\n",
       "      <td>2017-06-21</td>\n",
       "      <td>Uluru</td>\n",
       "      <td>E</td>\n",
       "      <td>SE</td>\n",
       "      <td>ENE</td>\n",
       "      <td>No</td>\n",
       "      <td>No</td>\n",
       "      <td>2.8</td>\n",
       "      <td>23.4</td>\n",
       "      <td>0.0</td>\n",
       "      <td>31.0</td>\n",
       "      <td>13.0</td>\n",
       "      <td>11.0</td>\n",
       "      <td>51.0</td>\n",
       "      <td>24.0</td>\n",
       "      <td>1024.6</td>\n",
       "      <td>1020.3</td>\n",
       "      <td>10.1</td>\n",
       "      <td>22.4</td>\n",
       "    </tr>\n",
       "    <tr>\n",
       "      <th>145456</th>\n",
       "      <td>2017-06-22</td>\n",
       "      <td>Uluru</td>\n",
       "      <td>NNW</td>\n",
       "      <td>SE</td>\n",
       "      <td>N</td>\n",
       "      <td>No</td>\n",
       "      <td>No</td>\n",
       "      <td>3.6</td>\n",
       "      <td>25.3</td>\n",
       "      <td>0.0</td>\n",
       "      <td>22.0</td>\n",
       "      <td>13.0</td>\n",
       "      <td>9.0</td>\n",
       "      <td>56.0</td>\n",
       "      <td>21.0</td>\n",
       "      <td>1023.5</td>\n",
       "      <td>1019.1</td>\n",
       "      <td>10.9</td>\n",
       "      <td>24.5</td>\n",
       "    </tr>\n",
       "    <tr>\n",
       "      <th>145457</th>\n",
       "      <td>2017-06-23</td>\n",
       "      <td>Uluru</td>\n",
       "      <td>N</td>\n",
       "      <td>SE</td>\n",
       "      <td>WNW</td>\n",
       "      <td>No</td>\n",
       "      <td>No</td>\n",
       "      <td>5.4</td>\n",
       "      <td>26.9</td>\n",
       "      <td>0.0</td>\n",
       "      <td>37.0</td>\n",
       "      <td>9.0</td>\n",
       "      <td>9.0</td>\n",
       "      <td>53.0</td>\n",
       "      <td>24.0</td>\n",
       "      <td>1021.0</td>\n",
       "      <td>1016.8</td>\n",
       "      <td>12.5</td>\n",
       "      <td>26.1</td>\n",
       "    </tr>\n",
       "    <tr>\n",
       "      <th>145458</th>\n",
       "      <td>2017-06-24</td>\n",
       "      <td>Uluru</td>\n",
       "      <td>SE</td>\n",
       "      <td>SSE</td>\n",
       "      <td>N</td>\n",
       "      <td>No</td>\n",
       "      <td>No</td>\n",
       "      <td>7.8</td>\n",
       "      <td>27.0</td>\n",
       "      <td>0.0</td>\n",
       "      <td>28.0</td>\n",
       "      <td>13.0</td>\n",
       "      <td>7.0</td>\n",
       "      <td>51.0</td>\n",
       "      <td>24.0</td>\n",
       "      <td>1019.4</td>\n",
       "      <td>1016.5</td>\n",
       "      <td>15.1</td>\n",
       "      <td>26.0</td>\n",
       "    </tr>\n",
       "  </tbody>\n",
       "</table>\n",
       "<p>107868 rows × 19 columns</p>\n",
       "</div>"
      ],
      "text/plain": [
       "              Date Location WindGustDir WindDir9am WindDir3pm RainToday  \\\n",
       "0       2008-12-01   Albury           W          W        WNW        No   \n",
       "1       2008-12-02   Albury         WNW        NNW        WSW        No   \n",
       "2       2008-12-03   Albury         WSW          W        WSW        No   \n",
       "3       2008-12-04   Albury          NE         SE          E        No   \n",
       "4       2008-12-05   Albury           W        ENE         NW        No   \n",
       "...            ...      ...         ...        ...        ...       ...   \n",
       "145454  2017-06-20    Uluru           E        ESE          E        No   \n",
       "145455  2017-06-21    Uluru           E         SE        ENE        No   \n",
       "145456  2017-06-22    Uluru         NNW         SE          N        No   \n",
       "145457  2017-06-23    Uluru           N         SE        WNW        No   \n",
       "145458  2017-06-24    Uluru          SE        SSE          N        No   \n",
       "\n",
       "       RainTomorrow  MinTemp  MaxTemp  Rainfall  WindGustSpeed  WindSpeed9am  \\\n",
       "0                No     13.4     22.9       0.6           44.0          20.0   \n",
       "1                No      7.4     25.1       0.0           44.0           4.0   \n",
       "2                No     12.9     25.7       0.0           46.0          19.0   \n",
       "3                No      9.2     28.0       0.0           24.0          11.0   \n",
       "4                No     17.5     32.3       1.0           41.0           7.0   \n",
       "...             ...      ...      ...       ...            ...           ...   \n",
       "145454           No      3.5     21.8       0.0           31.0          15.0   \n",
       "145455           No      2.8     23.4       0.0           31.0          13.0   \n",
       "145456           No      3.6     25.3       0.0           22.0          13.0   \n",
       "145457           No      5.4     26.9       0.0           37.0           9.0   \n",
       "145458           No      7.8     27.0       0.0           28.0          13.0   \n",
       "\n",
       "        WindSpeed3pm  Humidity9am  Humidity3pm  Pressure9am  Pressure3pm  \\\n",
       "0               24.0         71.0         22.0       1007.7       1007.1   \n",
       "1               22.0         44.0         25.0       1010.6       1007.8   \n",
       "2               26.0         38.0         30.0       1007.6       1008.7   \n",
       "3                9.0         45.0         16.0       1017.6       1012.8   \n",
       "4               20.0         82.0         33.0       1010.8       1006.0   \n",
       "...              ...          ...          ...          ...          ...   \n",
       "145454          13.0         59.0         27.0       1024.7       1021.2   \n",
       "145455          11.0         51.0         24.0       1024.6       1020.3   \n",
       "145456           9.0         56.0         21.0       1023.5       1019.1   \n",
       "145457           9.0         53.0         24.0       1021.0       1016.8   \n",
       "145458           7.0         51.0         24.0       1019.4       1016.5   \n",
       "\n",
       "        Temp9am  Temp3pm  \n",
       "0          16.9     21.8  \n",
       "1          17.2     24.3  \n",
       "2          21.0     23.2  \n",
       "3          18.1     26.5  \n",
       "4          17.8     29.7  \n",
       "...         ...      ...  \n",
       "145454      9.4     20.9  \n",
       "145455     10.1     22.4  \n",
       "145456     10.9     24.5  \n",
       "145457     12.5     26.1  \n",
       "145458     15.1     26.0  \n",
       "\n",
       "[107868 rows x 19 columns]"
      ]
     },
     "execution_count": 13,
     "metadata": {},
     "output_type": "execute_result"
    }
   ],
   "source": [
    "df"
   ]
  },
  {
   "cell_type": "markdown",
   "id": "direct-favorite",
   "metadata": {
    "papermill": {
     "duration": 0.046033,
     "end_time": "2021-04-04T07:41:26.632035",
     "exception": false,
     "start_time": "2021-04-04T07:41:26.586002",
     "status": "completed"
    },
    "tags": []
   },
   "source": [
    "**we will do more data processing for training the model, but first we should analyse the data**"
   ]
  },
  {
   "cell_type": "markdown",
   "id": "deadly-greek",
   "metadata": {
    "papermill": {
     "duration": 0.046214,
     "end_time": "2021-04-04T07:41:26.724438",
     "exception": false,
     "start_time": "2021-04-04T07:41:26.678224",
     "status": "completed"
    },
    "tags": []
   },
   "source": [
    "# 3.Analysis"
   ]
  },
  {
   "cell_type": "code",
   "execution_count": 14,
   "id": "worldwide-party",
   "metadata": {
    "execution": {
     "iopub.execute_input": "2021-04-04T07:41:26.876119Z",
     "iopub.status.busy": "2021-04-04T07:41:26.874053Z",
     "iopub.status.idle": "2021-04-04T07:41:36.956073Z",
     "shell.execute_reply": "2021-04-04T07:41:36.955482Z"
    },
    "papermill": {
     "duration": 10.184205,
     "end_time": "2021-04-04T07:41:36.956238",
     "exception": false,
     "start_time": "2021-04-04T07:41:26.772033",
     "status": "completed"
    },
    "tags": []
   },
   "outputs": [
    {
     "name": "stderr",
     "output_type": "stream",
     "text": [
      "/opt/conda/lib/python3.7/site-packages/seaborn/distributions.py:2557: FutureWarning: `distplot` is a deprecated function and will be removed in a future version. Please adapt your code to use either `displot` (a figure-level function with similar flexibility) or `histplot` (an axes-level function for histograms).\n",
      "  warnings.warn(msg, FutureWarning)\n",
      "/opt/conda/lib/python3.7/site-packages/seaborn/distributions.py:2557: FutureWarning: `distplot` is a deprecated function and will be removed in a future version. Please adapt your code to use either `displot` (a figure-level function with similar flexibility) or `histplot` (an axes-level function for histograms).\n",
      "  warnings.warn(msg, FutureWarning)\n",
      "/opt/conda/lib/python3.7/site-packages/seaborn/distributions.py:2557: FutureWarning: `distplot` is a deprecated function and will be removed in a future version. Please adapt your code to use either `displot` (a figure-level function with similar flexibility) or `histplot` (an axes-level function for histograms).\n",
      "  warnings.warn(msg, FutureWarning)\n",
      "/opt/conda/lib/python3.7/site-packages/seaborn/distributions.py:2557: FutureWarning: `distplot` is a deprecated function and will be removed in a future version. Please adapt your code to use either `displot` (a figure-level function with similar flexibility) or `histplot` (an axes-level function for histograms).\n",
      "  warnings.warn(msg, FutureWarning)\n",
      "/opt/conda/lib/python3.7/site-packages/seaborn/distributions.py:2557: FutureWarning: `distplot` is a deprecated function and will be removed in a future version. Please adapt your code to use either `displot` (a figure-level function with similar flexibility) or `histplot` (an axes-level function for histograms).\n",
      "  warnings.warn(msg, FutureWarning)\n",
      "/opt/conda/lib/python3.7/site-packages/seaborn/distributions.py:2557: FutureWarning: `distplot` is a deprecated function and will be removed in a future version. Please adapt your code to use either `displot` (a figure-level function with similar flexibility) or `histplot` (an axes-level function for histograms).\n",
      "  warnings.warn(msg, FutureWarning)\n",
      "/opt/conda/lib/python3.7/site-packages/seaborn/distributions.py:2557: FutureWarning: `distplot` is a deprecated function and will be removed in a future version. Please adapt your code to use either `displot` (a figure-level function with similar flexibility) or `histplot` (an axes-level function for histograms).\n",
      "  warnings.warn(msg, FutureWarning)\n",
      "/opt/conda/lib/python3.7/site-packages/seaborn/distributions.py:2557: FutureWarning: `distplot` is a deprecated function and will be removed in a future version. Please adapt your code to use either `displot` (a figure-level function with similar flexibility) or `histplot` (an axes-level function for histograms).\n",
      "  warnings.warn(msg, FutureWarning)\n",
      "/opt/conda/lib/python3.7/site-packages/seaborn/distributions.py:2557: FutureWarning: `distplot` is a deprecated function and will be removed in a future version. Please adapt your code to use either `displot` (a figure-level function with similar flexibility) or `histplot` (an axes-level function for histograms).\n",
      "  warnings.warn(msg, FutureWarning)\n",
      "/opt/conda/lib/python3.7/site-packages/seaborn/distributions.py:2557: FutureWarning: `distplot` is a deprecated function and will be removed in a future version. Please adapt your code to use either `displot` (a figure-level function with similar flexibility) or `histplot` (an axes-level function for histograms).\n",
      "  warnings.warn(msg, FutureWarning)\n",
      "/opt/conda/lib/python3.7/site-packages/seaborn/distributions.py:2557: FutureWarning: `distplot` is a deprecated function and will be removed in a future version. Please adapt your code to use either `displot` (a figure-level function with similar flexibility) or `histplot` (an axes-level function for histograms).\n",
      "  warnings.warn(msg, FutureWarning)\n",
      "/opt/conda/lib/python3.7/site-packages/seaborn/distributions.py:2557: FutureWarning: `distplot` is a deprecated function and will be removed in a future version. Please adapt your code to use either `displot` (a figure-level function with similar flexibility) or `histplot` (an axes-level function for histograms).\n",
      "  warnings.warn(msg, FutureWarning)\n"
     ]
    },
    {
     "data": {
      "image/png": "[encoded data removed]",
      "text/plain": [
       "<Figure size 1440x720 with 12 Axes>"
      ]
     },
     "metadata": {
      "needs_background": "light"
     },
     "output_type": "display_data"
    }
   ],
   "source": [
    "\n",
    "list_categorical_column = df.select_dtypes(include=np.number).columns.tolist()\n",
    "fig, ((ax1,ax2,ax3),(ax4,ax5,ax6),(ax7,ax8,ax9),(ax10,ax11,ax12)) = plt.subplots(4,3,figsize=(20,10)) \n",
    "ax_list = [ax1,ax2,ax3,ax4,ax5,ax6,ax7,ax8,ax9,ax10,ax11,ax12]\n",
    "i = 0\n",
    "\n",
    "for column in list_categorical_column:\n",
    "    \n",
    "    sns.distplot(df[column], ax=ax_list[i])\n",
    "    i += 1\n",
    "plt.subplots_adjust(left=None, bottom=None, right=None, top=None, wspace=None, hspace=0.8)\n",
    "plt.show()"
   ]
  },
  {
   "cell_type": "markdown",
   "id": "destroyed-chest",
   "metadata": {
    "papermill": {
     "duration": 0.05257,
     "end_time": "2021-04-04T07:41:37.062979",
     "exception": false,
     "start_time": "2021-04-04T07:41:37.010409",
     "status": "completed"
    },
    "tags": []
   },
   "source": [
    "**by comparing the distributions above with distribution of the days that it rained the next day, we can find some correlations between target and some features**"
   ]
  },
  {
   "cell_type": "code",
   "execution_count": 15,
   "id": "institutional-importance",
   "metadata": {
    "execution": {
     "iopub.execute_input": "2021-04-04T07:41:37.189405Z",
     "iopub.status.busy": "2021-04-04T07:41:37.188733Z",
     "iopub.status.idle": "2021-04-04T07:41:37.195524Z",
     "shell.execute_reply": "2021-04-04T07:41:37.195967Z"
    },
    "papermill": {
     "duration": 0.079729,
     "end_time": "2021-04-04T07:41:37.196162",
     "exception": false,
     "start_time": "2021-04-04T07:41:37.116433",
     "status": "completed"
    },
    "tags": []
   },
   "outputs": [],
   "source": [
    "df_rain_tommorow = df.loc[df[\"RainTomorrow\"] == \"Yes\"]"
   ]
  },
  {
   "cell_type": "code",
   "execution_count": 16,
   "id": "offshore-infection",
   "metadata": {
    "execution": {
     "iopub.execute_input": "2021-04-04T07:41:37.305950Z",
     "iopub.status.busy": "2021-04-04T07:41:37.305328Z",
     "iopub.status.idle": "2021-04-04T07:41:42.500001Z",
     "shell.execute_reply": "2021-04-04T07:41:42.500528Z"
    },
    "papermill": {
     "duration": 5.251484,
     "end_time": "2021-04-04T07:41:42.500765",
     "exception": false,
     "start_time": "2021-04-04T07:41:37.249281",
     "status": "completed"
    },
    "tags": []
   },
   "outputs": [
    {
     "name": "stderr",
     "output_type": "stream",
     "text": [
      "/opt/conda/lib/python3.7/site-packages/seaborn/distributions.py:2557: FutureWarning: `distplot` is a deprecated function and will be removed in a future version. Please adapt your code to use either `displot` (a figure-level function with similar flexibility) or `histplot` (an axes-level function for histograms).\n",
      "  warnings.warn(msg, FutureWarning)\n",
      "/opt/conda/lib/python3.7/site-packages/seaborn/distributions.py:2557: FutureWarning: `distplot` is a deprecated function and will be removed in a future version. Please adapt your code to use either `displot` (a figure-level function with similar flexibility) or `histplot` (an axes-level function for histograms).\n",
      "  warnings.warn(msg, FutureWarning)\n",
      "/opt/conda/lib/python3.7/site-packages/seaborn/distributions.py:2557: FutureWarning: `distplot` is a deprecated function and will be removed in a future version. Please adapt your code to use either `displot` (a figure-level function with similar flexibility) or `histplot` (an axes-level function for histograms).\n",
      "  warnings.warn(msg, FutureWarning)\n",
      "/opt/conda/lib/python3.7/site-packages/seaborn/distributions.py:2557: FutureWarning: `distplot` is a deprecated function and will be removed in a future version. Please adapt your code to use either `displot` (a figure-level function with similar flexibility) or `histplot` (an axes-level function for histograms).\n",
      "  warnings.warn(msg, FutureWarning)\n",
      "/opt/conda/lib/python3.7/site-packages/seaborn/distributions.py:2557: FutureWarning: `distplot` is a deprecated function and will be removed in a future version. Please adapt your code to use either `displot` (a figure-level function with similar flexibility) or `histplot` (an axes-level function for histograms).\n",
      "  warnings.warn(msg, FutureWarning)\n",
      "/opt/conda/lib/python3.7/site-packages/seaborn/distributions.py:2557: FutureWarning: `distplot` is a deprecated function and will be removed in a future version. Please adapt your code to use either `displot` (a figure-level function with similar flexibility) or `histplot` (an axes-level function for histograms).\n",
      "  warnings.warn(msg, FutureWarning)\n",
      "/opt/conda/lib/python3.7/site-packages/seaborn/distributions.py:2557: FutureWarning: `distplot` is a deprecated function and will be removed in a future version. Please adapt your code to use either `displot` (a figure-level function with similar flexibility) or `histplot` (an axes-level function for histograms).\n",
      "  warnings.warn(msg, FutureWarning)\n",
      "/opt/conda/lib/python3.7/site-packages/seaborn/distributions.py:2557: FutureWarning: `distplot` is a deprecated function and will be removed in a future version. Please adapt your code to use either `displot` (a figure-level function with similar flexibility) or `histplot` (an axes-level function for histograms).\n",
      "  warnings.warn(msg, FutureWarning)\n",
      "/opt/conda/lib/python3.7/site-packages/seaborn/distributions.py:2557: FutureWarning: `distplot` is a deprecated function and will be removed in a future version. Please adapt your code to use either `displot` (a figure-level function with similar flexibility) or `histplot` (an axes-level function for histograms).\n",
      "  warnings.warn(msg, FutureWarning)\n",
      "/opt/conda/lib/python3.7/site-packages/seaborn/distributions.py:2557: FutureWarning: `distplot` is a deprecated function and will be removed in a future version. Please adapt your code to use either `displot` (a figure-level function with similar flexibility) or `histplot` (an axes-level function for histograms).\n",
      "  warnings.warn(msg, FutureWarning)\n",
      "/opt/conda/lib/python3.7/site-packages/seaborn/distributions.py:2557: FutureWarning: `distplot` is a deprecated function and will be removed in a future version. Please adapt your code to use either `displot` (a figure-level function with similar flexibility) or `histplot` (an axes-level function for histograms).\n",
      "  warnings.warn(msg, FutureWarning)\n",
      "/opt/conda/lib/python3.7/site-packages/seaborn/distributions.py:2557: FutureWarning: `distplot` is a deprecated function and will be removed in a future version. Please adapt your code to use either `displot` (a figure-level function with similar flexibility) or `histplot` (an axes-level function for histograms).\n",
      "  warnings.warn(msg, FutureWarning)\n"
     ]
    },
    {
     "data": {
      "image/png": "[encoded data removed]",
      "text/plain": [
       "<Figure size 1440x720 with 12 Axes>"
      ]
     },
     "metadata": {
      "needs_background": "light"
     },
     "output_type": "display_data"
    }
   ],
   "source": [
    "list_categorical_column = df.select_dtypes(include=np.number).columns.tolist()\n",
    "fig, ((ax1,ax2,ax3),(ax4,ax5,ax6),(ax7,ax8,ax9),(ax10,ax11,ax12)) = plt.subplots(4,3,figsize=(20,10)) \n",
    "ax_list = [ax1,ax2,ax3,ax4,ax5,ax6,ax7,ax8,ax9,ax10,ax11,ax12]\n",
    "i = 0\n",
    "\n",
    "for column in list_categorical_column:\n",
    "    \n",
    "    sns.distplot(df_rain_tommorow[column], ax=ax_list[i])\n",
    "    i += 1\n",
    "plt.subplots_adjust(left=None, bottom=None, right=None, top=None, wspace=None, hspace=0.8)\n",
    "plt.show()"
   ]
  },
  {
   "cell_type": "markdown",
   "id": "cosmetic-catholic",
   "metadata": {
    "papermill": {
     "duration": 0.06115,
     "end_time": "2021-04-04T07:41:42.624015",
     "exception": false,
     "start_time": "2021-04-04T07:41:42.562865",
     "status": "completed"
    },
    "tags": []
   },
   "source": [
    "**as you can see,in the days before rainy days, the data related to temperature has lower median and the humidty and the rain fall have higher median, but pressure and wind data doesnt seem to affect the probability of raining the next day**"
   ]
  },
  {
   "cell_type": "code",
   "execution_count": 17,
   "id": "foster-berkeley",
   "metadata": {
    "execution": {
     "iopub.execute_input": "2021-04-04T07:41:42.769239Z",
     "iopub.status.busy": "2021-04-04T07:41:42.768027Z",
     "iopub.status.idle": "2021-04-04T07:41:42.775637Z",
     "shell.execute_reply": "2021-04-04T07:41:42.774961Z"
    },
    "papermill": {
     "duration": 0.090414,
     "end_time": "2021-04-04T07:41:42.775804",
     "exception": false,
     "start_time": "2021-04-04T07:41:42.685390",
     "status": "completed"
    },
    "tags": []
   },
   "outputs": [],
   "source": [
    "df_rain_today = df.loc[df[\"RainToday\"] == \"Yes\"]"
   ]
  },
  {
   "cell_type": "code",
   "execution_count": 18,
   "id": "gross-degree",
   "metadata": {
    "execution": {
     "iopub.execute_input": "2021-04-04T07:41:42.940117Z",
     "iopub.status.busy": "2021-04-04T07:41:42.937574Z",
     "iopub.status.idle": "2021-04-04T07:41:43.362352Z",
     "shell.execute_reply": "2021-04-04T07:41:43.361686Z"
    },
    "papermill": {
     "duration": 0.525892,
     "end_time": "2021-04-04T07:41:43.362494",
     "exception": false,
     "start_time": "2021-04-04T07:41:42.836602",
     "status": "completed"
    },
    "tags": []
   },
   "outputs": [
    {
     "data": {
      "image/png": "[encoded data removed]",
      "text/plain": [
       "<Figure size 720x360 with 1 Axes>"
      ]
     },
     "metadata": {
      "needs_background": "light"
     },
     "output_type": "display_data"
    }
   ],
   "source": [
    "\n",
    "dict_data = df_rain_today['Location'].value_counts().to_dict()\n",
    "plt.figure(figsize=(10,5)) \n",
    "plt.bar(list(dict_data.keys()),list(dict_data.values()))\n",
    "plt.xticks(list(dict_data.keys()), rotation='vertical')\n",
    "plt.show()"
   ]
  },
  {
   "cell_type": "markdown",
   "id": "popular-twins",
   "metadata": {
    "papermill": {
     "duration": 0.061568,
     "end_time": "2021-04-04T07:41:43.485905",
     "exception": false,
     "start_time": "2021-04-04T07:41:43.424337",
     "status": "completed"
    },
    "tags": []
   },
   "source": [
    "**the chart above shows the number of rainy days in each location**"
   ]
  },
  {
   "cell_type": "code",
   "execution_count": 19,
   "id": "equipped-ranch",
   "metadata": {
    "execution": {
     "iopub.execute_input": "2021-04-04T07:41:43.620163Z",
     "iopub.status.busy": "2021-04-04T07:41:43.619551Z",
     "iopub.status.idle": "2021-04-04T07:41:43.623045Z",
     "shell.execute_reply": "2021-04-04T07:41:43.622570Z"
    },
    "papermill": {
     "duration": 0.076106,
     "end_time": "2021-04-04T07:41:43.623196",
     "exception": false,
     "start_time": "2021-04-04T07:41:43.547090",
     "status": "completed"
    },
    "tags": []
   },
   "outputs": [],
   "source": [
    "df_numeric = df[df.select_dtypes(include=np.number).columns.tolist()]"
   ]
  },
  {
   "cell_type": "code",
   "execution_count": 20,
   "id": "rubber-seeking",
   "metadata": {
    "execution": {
     "iopub.execute_input": "2021-04-04T07:41:43.752668Z",
     "iopub.status.busy": "2021-04-04T07:41:43.752007Z",
     "iopub.status.idle": "2021-04-04T07:41:44.991885Z",
     "shell.execute_reply": "2021-04-04T07:41:44.991329Z"
    },
    "papermill": {
     "duration": 1.307305,
     "end_time": "2021-04-04T07:41:44.992026",
     "exception": false,
     "start_time": "2021-04-04T07:41:43.684721",
     "status": "completed"
    },
    "tags": []
   },
   "outputs": [
    {
     "data": {
      "text/plain": [
       "<AxesSubplot:>"
      ]
     },
     "execution_count": 20,
     "metadata": {},
     "output_type": "execute_result"
    },
    {
     "data": {
      "image/png": "[encoded data removed]",
      "text/plain": [
       "<Figure size 720x720 with 2 Axes>"
      ]
     },
     "metadata": {
      "needs_background": "light"
     },
     "output_type": "display_data"
    }
   ],
   "source": [
    "Var_Corr = df_numeric.corr()\n",
    "fig, ax = plt.subplots(figsize=(10,10)) \n",
    "sns.heatmap(Var_Corr, xticklabels=Var_Corr.columns, yticklabels=Var_Corr.columns, annot=True,ax=ax)"
   ]
  },
  {
   "cell_type": "markdown",
   "id": "israeli-arbor",
   "metadata": {
    "papermill": {
     "duration": 0.065774,
     "end_time": "2021-04-04T07:41:45.123645",
     "exception": false,
     "start_time": "2021-04-04T07:41:45.057871",
     "status": "completed"
    },
    "tags": []
   },
   "source": [
    "**heatmap is showing some intresting correlation between numerical features**"
   ]
  },
  {
   "cell_type": "markdown",
   "id": "front-charleston",
   "metadata": {
    "papermill": {
     "duration": 0.065032,
     "end_time": "2021-04-04T07:41:45.254061",
     "exception": false,
     "start_time": "2021-04-04T07:41:45.189029",
     "status": "completed"
    },
    "tags": []
   },
   "source": [
    "# 4.Furthur preprocessing"
   ]
  },
  {
   "cell_type": "markdown",
   "id": "creative-somewhere",
   "metadata": {
    "papermill": {
     "duration": 0.083516,
     "end_time": "2021-04-04T07:41:45.418469",
     "exception": false,
     "start_time": "2021-04-04T07:41:45.334953",
     "status": "completed"
    },
    "tags": []
   },
   "source": [
    "### 4.1 One-Hot encoding"
   ]
  },
  {
   "cell_type": "code",
   "execution_count": 21,
   "id": "personal-dallas",
   "metadata": {
    "execution": {
     "iopub.execute_input": "2021-04-04T07:41:45.560207Z",
     "iopub.status.busy": "2021-04-04T07:41:45.559535Z",
     "iopub.status.idle": "2021-04-04T07:41:45.690052Z",
     "shell.execute_reply": "2021-04-04T07:41:45.689479Z"
    },
    "papermill": {
     "duration": 0.204394,
     "end_time": "2021-04-04T07:41:45.690222",
     "exception": false,
     "start_time": "2021-04-04T07:41:45.485828",
     "status": "completed"
    },
    "tags": []
   },
   "outputs": [],
   "source": [
    "\n",
    "rain_tomorrow = df['RainTomorrow']\n",
    "df = df.drop('RainTomorrow',axis=1)\n",
    "df['RainTomorrow'] =rain_tomorrow\n",
    "df_encoded = pd.get_dummies(df.iloc[:,:18],columns=['WindGustDir','WindDir9am','WindDir3pm'])\n",
    "df_encoded['RainTomorrow'] =rain_tomorrow\n",
    "df_encoded.drop('Date',axis=1,inplace=True)\n",
    "df_encoded.drop('Location',axis=1,inplace=True)\n",
    "df_encoded[\"RainToday\"]= df_encoded[\"RainToday\"].astype('category').cat.codes\n",
    "df_encoded[\"RainTomorrow\"]= df_encoded[\"RainTomorrow\"].astype('category').cat.codes"
   ]
  },
  {
   "cell_type": "markdown",
   "id": "joined-place",
   "metadata": {
    "papermill": {
     "duration": 0.064792,
     "end_time": "2021-04-04T07:41:45.820761",
     "exception": false,
     "start_time": "2021-04-04T07:41:45.755969",
     "status": "completed"
    },
    "tags": []
   },
   "source": [
    "### 4.2 normalization"
   ]
  },
  {
   "cell_type": "code",
   "execution_count": 22,
   "id": "primary-subcommittee",
   "metadata": {
    "execution": {
     "iopub.execute_input": "2021-04-04T07:41:45.957047Z",
     "iopub.status.busy": "2021-04-04T07:41:45.956326Z",
     "iopub.status.idle": "2021-04-04T07:41:46.039833Z",
     "shell.execute_reply": "2021-04-04T07:41:46.039141Z"
    },
    "papermill": {
     "duration": 0.154536,
     "end_time": "2021-04-04T07:41:46.039988",
     "exception": false,
     "start_time": "2021-04-04T07:41:45.885452",
     "status": "completed"
    },
    "tags": []
   },
   "outputs": [],
   "source": [
    "x = df_encoded.values \n",
    "min_max_scaler = preprocessing.MinMaxScaler()\n",
    "x_scaled = min_max_scaler.fit_transform(x)\n",
    "columns = df_encoded.columns\n",
    "df_encoded_normalized = pd.DataFrame(x_scaled)\n",
    "df_encoded_normalized.columns = columns"
   ]
  },
  {
   "cell_type": "markdown",
   "id": "unauthorized-south",
   "metadata": {
    "papermill": {
     "duration": 0.064826,
     "end_time": "2021-04-04T07:41:46.170383",
     "exception": false,
     "start_time": "2021-04-04T07:41:46.105557",
     "status": "completed"
    },
    "tags": []
   },
   "source": [
    "**this step is not that important with algorithms we are using**"
   ]
  },
  {
   "cell_type": "markdown",
   "id": "finished-traffic",
   "metadata": {
    "papermill": {
     "duration": 0.065093,
     "end_time": "2021-04-04T07:41:46.300867",
     "exception": false,
     "start_time": "2021-04-04T07:41:46.235774",
     "status": "completed"
    },
    "tags": []
   },
   "source": [
    "### 4.3 balancing target values"
   ]
  },
  {
   "cell_type": "code",
   "execution_count": 23,
   "id": "tested-lloyd",
   "metadata": {
    "execution": {
     "iopub.execute_input": "2021-04-04T07:41:46.437275Z",
     "iopub.status.busy": "2021-04-04T07:41:46.436221Z",
     "iopub.status.idle": "2021-04-04T07:41:46.444632Z",
     "shell.execute_reply": "2021-04-04T07:41:46.445132Z"
    },
    "papermill": {
     "duration": 0.079202,
     "end_time": "2021-04-04T07:41:46.445339",
     "exception": false,
     "start_time": "2021-04-04T07:41:46.366137",
     "status": "completed"
    },
    "tags": []
   },
   "outputs": [
    {
     "data": {
      "text/plain": [
       "0.0    85475\n",
       "1.0    22393\n",
       "Name: RainTomorrow, dtype: int64"
      ]
     },
     "execution_count": 23,
     "metadata": {},
     "output_type": "execute_result"
    }
   ],
   "source": [
    "df_encoded_normalized['RainTomorrow'].value_counts()"
   ]
  },
  {
   "cell_type": "code",
   "execution_count": 24,
   "id": "metallic-obligation",
   "metadata": {
    "execution": {
     "iopub.execute_input": "2021-04-04T07:41:46.589764Z",
     "iopub.status.busy": "2021-04-04T07:41:46.588621Z",
     "iopub.status.idle": "2021-04-04T07:41:46.659221Z",
     "shell.execute_reply": "2021-04-04T07:41:46.658474Z"
    },
    "papermill": {
     "duration": 0.142105,
     "end_time": "2021-04-04T07:41:46.659387",
     "exception": false,
     "start_time": "2021-04-04T07:41:46.517282",
     "status": "completed"
    },
    "tags": []
   },
   "outputs": [],
   "source": [
    "df_training = df_encoded_normalized.groupby('RainTomorrow').apply(lambda x: x.sample(n=11000)).reset_index(drop = True)"
   ]
  },
  {
   "cell_type": "code",
   "execution_count": 25,
   "id": "magnetic-moral",
   "metadata": {
    "execution": {
     "iopub.execute_input": "2021-04-04T07:41:46.799883Z",
     "iopub.status.busy": "2021-04-04T07:41:46.797010Z",
     "iopub.status.idle": "2021-04-04T07:41:46.804568Z",
     "shell.execute_reply": "2021-04-04T07:41:46.804005Z"
    },
    "papermill": {
     "duration": 0.079081,
     "end_time": "2021-04-04T07:41:46.804723",
     "exception": false,
     "start_time": "2021-04-04T07:41:46.725642",
     "status": "completed"
    },
    "tags": []
   },
   "outputs": [
    {
     "data": {
      "text/plain": [
       "0.0    11000\n",
       "1.0    11000\n",
       "Name: RainTomorrow, dtype: int64"
      ]
     },
     "execution_count": 25,
     "metadata": {},
     "output_type": "execute_result"
    }
   ],
   "source": [
    "df_training['RainTomorrow'].value_counts()"
   ]
  },
  {
   "cell_type": "markdown",
   "id": "guilty-satin",
   "metadata": {
    "papermill": {
     "duration": 0.066242,
     "end_time": "2021-04-04T07:41:46.943489",
     "exception": false,
     "start_time": "2021-04-04T07:41:46.877247",
     "status": "completed"
    },
    "tags": []
   },
   "source": [
    "**this is an important step, if we dont do this model will try to predict false and will fail to predict true values.**"
   ]
  },
  {
   "cell_type": "markdown",
   "id": "literary-tackle",
   "metadata": {
    "papermill": {
     "duration": 0.066581,
     "end_time": "2021-04-04T07:41:47.076657",
     "exception": false,
     "start_time": "2021-04-04T07:41:47.010076",
     "status": "completed"
    },
    "tags": []
   },
   "source": [
    "### 4.4 train,test split"
   ]
  },
  {
   "cell_type": "code",
   "execution_count": 26,
   "id": "selective-adoption",
   "metadata": {
    "execution": {
     "iopub.execute_input": "2021-04-04T07:41:47.215804Z",
     "iopub.status.busy": "2021-04-04T07:41:47.215136Z",
     "iopub.status.idle": "2021-04-04T07:41:47.217674Z",
     "shell.execute_reply": "2021-04-04T07:41:47.218129Z"
    },
    "papermill": {
     "duration": 0.075009,
     "end_time": "2021-04-04T07:41:47.218338",
     "exception": false,
     "start_time": "2021-04-04T07:41:47.143329",
     "status": "completed"
    },
    "tags": []
   },
   "outputs": [],
   "source": [
    "X=df_training.iloc[:,:61]\n",
    "y=df_training.iloc[:,61]"
   ]
  },
  {
   "cell_type": "code",
   "execution_count": 27,
   "id": "academic-england",
   "metadata": {
    "execution": {
     "iopub.execute_input": "2021-04-04T07:41:47.358842Z",
     "iopub.status.busy": "2021-04-04T07:41:47.358118Z",
     "iopub.status.idle": "2021-04-04T07:41:47.370901Z",
     "shell.execute_reply": "2021-04-04T07:41:47.370173Z"
    },
    "papermill": {
     "duration": 0.085827,
     "end_time": "2021-04-04T07:41:47.371049",
     "exception": false,
     "start_time": "2021-04-04T07:41:47.285222",
     "status": "completed"
    },
    "tags": []
   },
   "outputs": [],
   "source": [
    "X_train , X_test_dummy , y_train , y_test_dummy = train_test_split(X,y , test_size=0.2, random_state=0)"
   ]
  },
  {
   "cell_type": "markdown",
   "id": "controversial-collaboration",
   "metadata": {
    "papermill": {
     "duration": 0.066532,
     "end_time": "2021-04-04T07:41:47.504521",
     "exception": false,
     "start_time": "2021-04-04T07:41:47.437989",
     "status": "completed"
    },
    "tags": []
   },
   "source": [
    "**we shouldnt use \"df_training\" dataframe for testing, because in this dataframe number of target values have been euqalized.**"
   ]
  },
  {
   "cell_type": "code",
   "execution_count": 28,
   "id": "running-nicholas",
   "metadata": {
    "execution": {
     "iopub.execute_input": "2021-04-04T07:41:47.657107Z",
     "iopub.status.busy": "2021-04-04T07:41:47.656128Z",
     "iopub.status.idle": "2021-04-04T07:41:47.659223Z",
     "shell.execute_reply": "2021-04-04T07:41:47.659706Z"
    },
    "papermill": {
     "duration": 0.086539,
     "end_time": "2021-04-04T07:41:47.659887",
     "exception": false,
     "start_time": "2021-04-04T07:41:47.573348",
     "status": "completed"
    },
    "tags": []
   },
   "outputs": [],
   "source": [
    "X=df_encoded_normalized.iloc[:,:61]\n",
    "y=df_encoded_normalized.iloc[:,61]"
   ]
  },
  {
   "cell_type": "code",
   "execution_count": 29,
   "id": "senior-deficit",
   "metadata": {
    "execution": {
     "iopub.execute_input": "2021-04-04T07:41:47.800593Z",
     "iopub.status.busy": "2021-04-04T07:41:47.799664Z",
     "iopub.status.idle": "2021-04-04T07:41:47.860645Z",
     "shell.execute_reply": "2021-04-04T07:41:47.860090Z"
    },
    "papermill": {
     "duration": 0.13411,
     "end_time": "2021-04-04T07:41:47.860808",
     "exception": false,
     "start_time": "2021-04-04T07:41:47.726698",
     "status": "completed"
    },
    "tags": []
   },
   "outputs": [],
   "source": [
    "X_train_dummy , X_test , y_train_dummy , y_test = train_test_split(X,y , test_size=0.2, random_state=0)"
   ]
  },
  {
   "cell_type": "markdown",
   "id": "banned-formation",
   "metadata": {
    "papermill": {
     "duration": 0.0673,
     "end_time": "2021-04-04T07:41:47.995037",
     "exception": false,
     "start_time": "2021-04-04T07:41:47.927737",
     "status": "completed"
    },
    "tags": []
   },
   "source": [
    "**insted we use non-eualized dataframe for testing so testing would be closer to real life.**"
   ]
  },
  {
   "cell_type": "markdown",
   "id": "plain-pollution",
   "metadata": {
    "papermill": {
     "duration": 0.067231,
     "end_time": "2021-04-04T07:41:48.129007",
     "exception": false,
     "start_time": "2021-04-04T07:41:48.061776",
     "status": "completed"
    },
    "tags": []
   },
   "source": [
    "# 5.Training"
   ]
  },
  {
   "cell_type": "markdown",
   "id": "accepted-philosophy",
   "metadata": {
    "papermill": {
     "duration": 0.06643,
     "end_time": "2021-04-04T07:41:48.261896",
     "exception": false,
     "start_time": "2021-04-04T07:41:48.195466",
     "status": "completed"
    },
    "tags": []
   },
   "source": [
    "### 5.1 initial training"
   ]
  },
  {
   "cell_type": "markdown",
   "id": "anonymous-allergy",
   "metadata": {
    "papermill": {
     "duration": 0.066795,
     "end_time": "2021-04-04T07:41:48.396438",
     "exception": false,
     "start_time": "2021-04-04T07:41:48.329643",
     "status": "completed"
    },
    "tags": []
   },
   "source": [
    "#### 5.1.1 training with Logistic Regression"
   ]
  },
  {
   "cell_type": "code",
   "execution_count": 30,
   "id": "interim-playlist",
   "metadata": {
    "execution": {
     "iopub.execute_input": "2021-04-04T07:41:48.539919Z",
     "iopub.status.busy": "2021-04-04T07:41:48.538601Z",
     "iopub.status.idle": "2021-04-04T07:41:49.402998Z",
     "shell.execute_reply": "2021-04-04T07:41:49.403604Z"
    },
    "papermill": {
     "duration": 0.940094,
     "end_time": "2021-04-04T07:41:49.403807",
     "exception": false,
     "start_time": "2021-04-04T07:41:48.463713",
     "status": "completed"
    },
    "tags": []
   },
   "outputs": [
    {
     "name": "stdout",
     "output_type": "stream",
     "text": [
      "report : \n",
      "               precision    recall  f1-score   support\n",
      "\n",
      "         0.0       0.93      0.80      0.86     17129\n",
      "         1.0       0.49      0.76      0.60      4445\n",
      "\n",
      "    accuracy                           0.79     21574\n",
      "   macro avg       0.71      0.78      0.73     21574\n",
      "weighted avg       0.84      0.79      0.80     21574\n",
      "\n",
      "\n",
      "matrix :\n",
      "  [[13679  3450]\n",
      " [ 1080  3365]]\n",
      "\n",
      "score :  0.7900250301288588\n"
     ]
    }
   ],
   "source": [
    "lr = LogisticRegression(max_iter=1000)\n",
    "lr.fit(X_train,y_train)\n",
    "y_pred = lr.predict(X_test)\n",
    "print('report : \\n',classification_report(y_test,y_pred))\n",
    "print('\\nmatrix :\\n ',confusion_matrix(y_test,y_pred))\n",
    "print('\\nscore : ',accuracy_score(y_test,y_pred))"
   ]
  },
  {
   "cell_type": "markdown",
   "id": "actual-clock",
   "metadata": {
    "papermill": {
     "duration": 0.067433,
     "end_time": "2021-04-04T07:41:49.539205",
     "exception": false,
     "start_time": "2021-04-04T07:41:49.471772",
     "status": "completed"
    },
    "tags": []
   },
   "source": [
    "#### 5.1.2 training with XGBoost"
   ]
  },
  {
   "cell_type": "code",
   "execution_count": 31,
   "id": "coupled-lafayette",
   "metadata": {
    "execution": {
     "iopub.execute_input": "2021-04-04T07:41:49.681087Z",
     "iopub.status.busy": "2021-04-04T07:41:49.680274Z",
     "iopub.status.idle": "2021-04-04T07:41:51.871439Z",
     "shell.execute_reply": "2021-04-04T07:41:51.871922Z"
    },
    "papermill": {
     "duration": 2.265528,
     "end_time": "2021-04-04T07:41:51.872108",
     "exception": false,
     "start_time": "2021-04-04T07:41:49.606580",
     "status": "completed"
    },
    "tags": []
   },
   "outputs": [
    {
     "name": "stderr",
     "output_type": "stream",
     "text": [
      "/opt/conda/lib/python3.7/site-packages/xgboost/sklearn.py:888: UserWarning: The use of label encoder in XGBClassifier is deprecated and will be removed in a future release. To remove this warning, do the following: 1) Pass option use_label_encoder=False when constructing XGBClassifier object; and 2) Encode your labels (y) as integers starting with 0, i.e. 0, 1, 2, ..., [num_class - 1].\n",
      "  warnings.warn(label_encoder_deprecation_msg, UserWarning)\n"
     ]
    },
    {
     "name": "stdout",
     "output_type": "stream",
     "text": [
      "[07:41:49] WARNING: ../src/learner.cc:1061: Starting in XGBoost 1.3.0, the default evaluation metric used with the objective 'binary:logistic' was changed from 'error' to 'logloss'. Explicitly set eval_metric if you'd like to restore the old behavior.\n",
      "report : \n",
      "               precision    recall  f1-score   support\n",
      "\n",
      "         0.0       0.95      0.81      0.87     17129\n",
      "         1.0       0.53      0.82      0.64      4445\n",
      "\n",
      "    accuracy                           0.81     21574\n",
      "   macro avg       0.74      0.82      0.76     21574\n",
      "weighted avg       0.86      0.81      0.83     21574\n",
      "\n",
      "\n",
      "matrix :\n",
      "  [[13912  3217]\n",
      " [  807  3638]]\n",
      "\n",
      "score :  0.8134791879113749\n"
     ]
    }
   ],
   "source": [
    "xgbc = XGBClassifier(objective='binary:logistic')\n",
    "xgbc.fit(X_train,y_train)\n",
    "y_pred = xgbc.predict(X_test)\n",
    "print('report : \\n',classification_report(y_test,y_pred))\n",
    "print('\\nmatrix :\\n ',confusion_matrix(y_test,y_pred))\n",
    "print('\\nscore : ',accuracy_score(y_test,y_pred))"
   ]
  },
  {
   "cell_type": "markdown",
   "id": "diverse-apache",
   "metadata": {
    "papermill": {
     "duration": 0.06798,
     "end_time": "2021-04-04T07:41:52.009606",
     "exception": false,
     "start_time": "2021-04-04T07:41:51.941626",
     "status": "completed"
    },
    "tags": []
   },
   "source": [
    "#### 5.1.3 training with RandomForest"
   ]
  },
  {
   "cell_type": "code",
   "execution_count": 32,
   "id": "specialized-seven",
   "metadata": {
    "execution": {
     "iopub.execute_input": "2021-04-04T07:41:52.156737Z",
     "iopub.status.busy": "2021-04-04T07:41:52.155996Z",
     "iopub.status.idle": "2021-04-04T07:41:55.920295Z",
     "shell.execute_reply": "2021-04-04T07:41:55.919233Z"
    },
    "papermill": {
     "duration": 3.841517,
     "end_time": "2021-04-04T07:41:55.920465",
     "exception": false,
     "start_time": "2021-04-04T07:41:52.078948",
     "status": "completed"
    },
    "tags": []
   },
   "outputs": [
    {
     "name": "stdout",
     "output_type": "stream",
     "text": [
      "report :\n",
      "                precision    recall  f1-score   support\n",
      "\n",
      "         0.0       0.96      0.82      0.88     17129\n",
      "         1.0       0.55      0.86      0.67      4445\n",
      "\n",
      "    accuracy                           0.83     21574\n",
      "   macro avg       0.76      0.84      0.78     21574\n",
      "weighted avg       0.87      0.83      0.84     21574\n",
      "\n",
      "\n",
      "matrix :\n",
      "  [[14068  3061]\n",
      " [  643  3802]]\n",
      "\n",
      "score :  0.8283118568647446\n"
     ]
    }
   ],
   "source": [
    "clf=RandomForestClassifier()\n",
    "clf.fit(X_train, y_train)\n",
    "y_pred = clf.predict(X_test)\n",
    "print('report :\\n ',classification_report(y_test,y_pred))\n",
    "print('\\nmatrix :\\n ',confusion_matrix(y_test,y_pred))\n",
    "print('\\nscore : ',accuracy_score(y_test,y_pred))"
   ]
  },
  {
   "cell_type": "markdown",
   "id": "consecutive-determination",
   "metadata": {
    "papermill": {
     "duration": 0.068303,
     "end_time": "2021-04-04T07:41:56.058472",
     "exception": false,
     "start_time": "2021-04-04T07:41:55.990169",
     "status": "completed"
    },
    "tags": []
   },
   "source": [
    "### 5.2 Tuning"
   ]
  },
  {
   "cell_type": "markdown",
   "id": "wired-pencil",
   "metadata": {
    "papermill": {
     "duration": 0.068362,
     "end_time": "2021-04-04T07:41:56.196521",
     "exception": false,
     "start_time": "2021-04-04T07:41:56.128159",
     "status": "completed"
    },
    "tags": []
   },
   "source": [
    "**tuning threshold for F1**"
   ]
  },
  {
   "cell_type": "code",
   "execution_count": 33,
   "id": "cheap-search",
   "metadata": {
    "execution": {
     "iopub.execute_input": "2021-04-04T07:41:56.359252Z",
     "iopub.status.busy": "2021-04-04T07:41:56.358114Z",
     "iopub.status.idle": "2021-04-04T07:41:57.106292Z",
     "shell.execute_reply": "2021-04-04T07:41:57.105777Z"
    },
    "papermill": {
     "duration": 0.841293,
     "end_time": "2021-04-04T07:41:57.106482",
     "exception": false,
     "start_time": "2021-04-04T07:41:56.265189",
     "status": "completed"
    },
    "tags": []
   },
   "outputs": [
    {
     "data": {
      "text/plain": [
       "Text(0.5, 0, 'Threshold')"
      ]
     },
     "execution_count": 33,
     "metadata": {},
     "output_type": "execute_result"
    },
    {
     "data": {
      "image/png": "[encoded data removed]",
      "text/plain": [
       "<Figure size 432x288 with 1 Axes>"
      ]
     },
     "metadata": {
      "needs_background": "light"
     },
     "output_type": "display_data"
    }
   ],
   "source": [
    "y_scores = clf.predict_proba(X_test)[:,1]\n",
    "p, r, t = precision_recall_curve(y_test, y_scores)\n",
    "f1 = 2*p[:-1]*r[:-1]/(r[:-1]+p[:-1])\n",
    "plt.plot(t, p[:-1], 'r-', label='Precision')\n",
    "plt.plot(t, r[:-1], 'b-', label='Recall')\n",
    "plt.plot(t, f1, 'g-', label='F1')\n",
    "plt.legend(loc='center left')\n",
    "plt.xlabel('Threshold')\n",
    "\n"
   ]
  },
  {
   "cell_type": "markdown",
   "id": "outdoor-recorder",
   "metadata": {
    "papermill": {
     "duration": 0.070372,
     "end_time": "2021-04-04T07:41:57.248653",
     "exception": false,
     "start_time": "2021-04-04T07:41:57.178281",
     "status": "completed"
    },
    "tags": []
   },
   "source": [
    "**this graph shows effect of threshold on F1,precision,recall. since we are looking for a high F1 score, is around 0.7 threshold**"
   ]
  },
  {
   "cell_type": "code",
   "execution_count": 34,
   "id": "statutory-software",
   "metadata": {
    "execution": {
     "iopub.execute_input": "2021-04-04T07:41:57.400697Z",
     "iopub.status.busy": "2021-04-04T07:41:57.399562Z",
     "iopub.status.idle": "2021-04-04T07:41:58.033585Z",
     "shell.execute_reply": "2021-04-04T07:41:58.032774Z"
    },
    "papermill": {
     "duration": 0.714125,
     "end_time": "2021-04-04T07:41:58.033732",
     "exception": false,
     "start_time": "2021-04-04T07:41:57.319607",
     "status": "completed"
    },
    "tags": []
   },
   "outputs": [
    {
     "name": "stdout",
     "output_type": "stream",
     "text": [
      "\n",
      "report :\n",
      "                precision    recall  f1-score   support\n",
      "\n",
      "         0.0       0.92      0.94      0.93     17129\n",
      "         1.0       0.75      0.70      0.73      4445\n",
      "\n",
      "    accuracy                           0.89     21574\n",
      "   macro avg       0.84      0.82      0.83     21574\n",
      "weighted avg       0.89      0.89      0.89     21574\n",
      "\n",
      "\n",
      "matrix :\n",
      "  [[16080  1049]\n",
      " [ 1317  3128]]\n",
      "\n",
      "score :  0.890330953926022\n"
     ]
    }
   ],
   "source": [
    "y_pred = (clf.predict_proba(X_test)[:,1] >= 0.71).astype(int)\n",
    "print('\\nreport :\\n ',classification_report(y_test,y_pred))\n",
    "print('\\nmatrix :\\n ',confusion_matrix(y_test,y_pred))\n",
    "print('\\nscore : ',accuracy_score(y_test,y_pred))\n"
   ]
  },
  {
   "cell_type": "markdown",
   "id": "romantic-workstation",
   "metadata": {
    "papermill": {
     "duration": 0.070952,
     "end_time": "2021-04-04T07:41:58.177239",
     "exception": false,
     "start_time": "2021-04-04T07:41:58.106287",
     "status": "completed"
    },
    "tags": []
   },
   "source": [
    "**this is the model with best accuracy while maintaining acceptable f1-score**"
   ]
  },
  {
   "cell_type": "markdown",
   "id": "appointed-combination",
   "metadata": {
    "papermill": {
     "duration": 0.070882,
     "end_time": "2021-04-04T07:41:58.319292",
     "exception": false,
     "start_time": "2021-04-04T07:41:58.248410",
     "status": "completed"
    },
    "tags": []
   },
   "source": [
    "# 6.Conclusion"
   ]
  },
  {
   "cell_type": "markdown",
   "id": "beautiful-observation",
   "metadata": {
    "papermill": {
     "duration": 0.07072,
     "end_time": "2021-04-04T07:41:58.461132",
     "exception": false,
     "start_time": "2021-04-04T07:41:58.390412",
     "status": "completed"
    },
    "tags": []
   },
   "source": [
    "**dataset was fairly simple, nothing too tricky. we had to one-hot encode the categorical features and balance the target data. <br>\n",
    "<br>\n",
    "we built a classifier model with RandomForest, after some tweaking we achieved 0.89 \"testing accuray\" and maitaining 0.72 \"f1\" which \n",
    "considering the number of difftent locations, its not bad.**\n",
    "\n",
    "**since data is location based, if we train the model on each location indivisually, we get much better accuracy**\n",
    "\n"
   ]
  }
 ],
 "metadata": {
  "kernelspec": {
   "display_name": "Python 3",
   "language": "python",
   "name": "python3"
  },
  "language_info": {
   "codemirror_mode": {
    "name": "ipython",
    "version": 3
   },
   "file_extension": ".py",
   "mimetype": "text/x-python",
   "name": "python",
   "nbconvert_exporter": "python",
   "pygments_lexer": "ipython3",
   "version": "3.7.9"
  },
  "papermill": {
   "default_parameters": {},
   "duration": 45.534499,
   "end_time": "2021-04-04T07:41:59.344239",
   "environment_variables": {},
   "exception": null,
   "input_path": "__notebook__.ipynb",
   "output_path": "__notebook__.ipynb",
   "parameters": {},
   "start_time": "2021-04-04T07:41:13.809740",
   "version": "2.3.2"
  }
 },
 "nbformat": 4,
 "nbformat_minor": 5
}
